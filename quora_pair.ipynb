{
  "cells": [
    {
      "cell_type": "markdown",
      "metadata": {
        "id": "view-in-github",
        "colab_type": "text"
      },
      "source": [
        "<a href=\"https://colab.research.google.com/github/SathyaKumaragurubaran/Detecting-Duplicate-Question-Pairs-Using-Machine-Learning-Algorithms/blob/main/quora_pair.ipynb\" target=\"_parent\"><img src=\"https://colab.research.google.com/assets/colab-badge.svg\" alt=\"Open In Colab\"/></a>"
      ]
    },
    {
      "cell_type": "code",
      "execution_count": null,
      "metadata": {
        "colab": {
          "base_uri": "https://localhost:8080/"
        },
        "id": "vOjZmLvu2ECd",
        "outputId": "487d538a-8b95-4bb6-d889-4bfd27e5bcff"
      },
      "outputs": [
        {
          "output_type": "stream",
          "name": "stdout",
          "text": [
            "Looking in indexes: https://pypi.org/simple, https://us-python.pkg.dev/colab-wheels/public/simple/\n",
            "Requirement already satisfied: distance in /usr/local/lib/python3.10/dist-packages (0.1.3)\n"
          ]
        }
      ],
      "source": [
        "! pip install distance"
      ]
    },
    {
      "cell_type": "code",
      "execution_count": null,
      "metadata": {
        "id": "S-RvXhHq3Vkw"
      },
      "outputs": [],
      "source": [
        "import numpy as np # linear algebra\n",
        "import pandas as pd # data processing, CSV file I/O (e.g. pd.read_csv)"
      ]
    },
    {
      "cell_type": "code",
      "execution_count": null,
      "metadata": {
        "colab": {
          "base_uri": "https://localhost:8080/",
          "height": 17
        },
        "id": "tNXWOSp12Ghk",
        "outputId": "cab7b9a1-86c1-4e33-e7e7-4ed0316cfefa"
      },
      "outputs": [
        {
          "output_type": "display_data",
          "data": {
            "text/html": [
              "        <script type=\"text/javascript\">\n",
              "        window.PlotlyConfig = {MathJaxConfig: 'local'};\n",
              "        if (window.MathJax && window.MathJax.Hub && window.MathJax.Hub.Config) {window.MathJax.Hub.Config({SVG: {font: \"STIX-Web\"}});}\n",
              "        if (typeof require !== 'undefined') {\n",
              "        require.undef(\"plotly\");\n",
              "        requirejs.config({\n",
              "            paths: {\n",
              "                'plotly': ['https://cdn.plot.ly/plotly-2.18.2.min']\n",
              "            }\n",
              "        });\n",
              "        require(['plotly'], function(Plotly) {\n",
              "            window._Plotly = Plotly;\n",
              "        });\n",
              "        }\n",
              "        </script>\n",
              "        "
            ]
          },
          "metadata": {}
        }
      ],
      "source": [
        "import seaborn as sns\n",
        "import matplotlib.pyplot as plt\n",
        "from matplotlib import rcParams\n",
        "import nltk\n",
        "from collections import Counter\n",
        "import distance\n",
        "from matplotlib import rcParams\n",
        "import plotly.express as px\n",
        "from wordcloud import WordCloud, STOPWORDS\n",
        "import matplotlib.cm as cm\n",
        "import numpy as np\n",
        "import pandas as pd\n",
        "import seaborn as sns\n",
        "import matplotlib.pyplot as plt\n",
        "from subprocess import check_output\n",
        "%matplotlib inline\n",
        "import plotly.offline as py\n",
        "py.init_notebook_mode(connected=True)\n",
        "import plotly.graph_objs as go\n",
        "import plotly.tools as tls\n",
        "import os\n",
        "import gc\n",
        "import sys\n",
        "from sklearn.feature_extraction.text import TfidfTransformer\n",
        "from sklearn.feature_extraction.text import CountVectorizer\n",
        "import re\n",
        "from nltk.corpus import stopwords\n",
        "from tqdm import tqdm\n",
        "from sklearn.preprocessing import normalize\n",
        "from nltk.stem import PorterStemmer\n",
        "from bs4 import BeautifulSoup\n",
        "import collections\n",
        "%matplotlib inline"
      ]
    },
    {
      "cell_type": "markdown",
      "source": [
        "Loading Data And Getting Basics Stats"
      ],
      "metadata": {
        "id": "ersetzDm-JsA"
      }
    },
    {
      "cell_type": "code",
      "execution_count": null,
      "metadata": {
        "colab": {
          "base_uri": "https://localhost:8080/"
        },
        "id": "cUnEEwC82Oxv",
        "outputId": "3ec24d60-1b0a-4c19-f941-2e6da8efeb18"
      },
      "outputs": [
        {
          "output_type": "stream",
          "name": "stdout",
          "text": [
            "Number of data points: 404290\n"
          ]
        }
      ],
      "source": [
        "df = pd.read_csv(\"/content/drive/MyDrive/train.csv\")\n",
        "\n",
        "print(\"Number of data points:\",df.shape[0])"
      ]
    },
    {
      "cell_type": "code",
      "execution_count": null,
      "metadata": {
        "colab": {
          "base_uri": "https://localhost:8080/",
          "height": 206
        },
        "id": "NTTrt3643bxH",
        "outputId": "17e2d948-0075-4a54-ece1-ca02a3cc899d"
      },
      "outputs": [
        {
          "output_type": "execute_result",
          "data": {
            "text/plain": [
              "   id  qid1  qid2                                          question1  \\\n",
              "0   0     1     2  What is the step by step guide to invest in sh...   \n",
              "1   1     3     4  What is the story of Kohinoor (Koh-i-Noor) Dia...   \n",
              "2   2     5     6  How can I increase the speed of my internet co...   \n",
              "3   3     7     8  Why am I mentally very lonely? How can I solve...   \n",
              "4   4     9    10  Which one dissolve in water quikly sugar, salt...   \n",
              "\n",
              "                                           question2  is_duplicate  \n",
              "0  What is the step by step guide to invest in sh...             0  \n",
              "1  What would happen if the Indian government sto...             0  \n",
              "2  How can Internet speed be increased by hacking...             0  \n",
              "3  Find the remainder when [math]23^{24}[/math] i...             0  \n",
              "4            Which fish would survive in salt water?             0  "
            ],
            "text/html": [
              "\n",
              "  <div id=\"df-697e174e-7988-45a9-9420-5d99e574b3ab\">\n",
              "    <div class=\"colab-df-container\">\n",
              "      <div>\n",
              "<style scoped>\n",
              "    .dataframe tbody tr th:only-of-type {\n",
              "        vertical-align: middle;\n",
              "    }\n",
              "\n",
              "    .dataframe tbody tr th {\n",
              "        vertical-align: top;\n",
              "    }\n",
              "\n",
              "    .dataframe thead th {\n",
              "        text-align: right;\n",
              "    }\n",
              "</style>\n",
              "<table border=\"1\" class=\"dataframe\">\n",
              "  <thead>\n",
              "    <tr style=\"text-align: right;\">\n",
              "      <th></th>\n",
              "      <th>id</th>\n",
              "      <th>qid1</th>\n",
              "      <th>qid2</th>\n",
              "      <th>question1</th>\n",
              "      <th>question2</th>\n",
              "      <th>is_duplicate</th>\n",
              "    </tr>\n",
              "  </thead>\n",
              "  <tbody>\n",
              "    <tr>\n",
              "      <th>0</th>\n",
              "      <td>0</td>\n",
              "      <td>1</td>\n",
              "      <td>2</td>\n",
              "      <td>What is the step by step guide to invest in sh...</td>\n",
              "      <td>What is the step by step guide to invest in sh...</td>\n",
              "      <td>0</td>\n",
              "    </tr>\n",
              "    <tr>\n",
              "      <th>1</th>\n",
              "      <td>1</td>\n",
              "      <td>3</td>\n",
              "      <td>4</td>\n",
              "      <td>What is the story of Kohinoor (Koh-i-Noor) Dia...</td>\n",
              "      <td>What would happen if the Indian government sto...</td>\n",
              "      <td>0</td>\n",
              "    </tr>\n",
              "    <tr>\n",
              "      <th>2</th>\n",
              "      <td>2</td>\n",
              "      <td>5</td>\n",
              "      <td>6</td>\n",
              "      <td>How can I increase the speed of my internet co...</td>\n",
              "      <td>How can Internet speed be increased by hacking...</td>\n",
              "      <td>0</td>\n",
              "    </tr>\n",
              "    <tr>\n",
              "      <th>3</th>\n",
              "      <td>3</td>\n",
              "      <td>7</td>\n",
              "      <td>8</td>\n",
              "      <td>Why am I mentally very lonely? How can I solve...</td>\n",
              "      <td>Find the remainder when [math]23^{24}[/math] i...</td>\n",
              "      <td>0</td>\n",
              "    </tr>\n",
              "    <tr>\n",
              "      <th>4</th>\n",
              "      <td>4</td>\n",
              "      <td>9</td>\n",
              "      <td>10</td>\n",
              "      <td>Which one dissolve in water quikly sugar, salt...</td>\n",
              "      <td>Which fish would survive in salt water?</td>\n",
              "      <td>0</td>\n",
              "    </tr>\n",
              "  </tbody>\n",
              "</table>\n",
              "</div>\n",
              "      <button class=\"colab-df-convert\" onclick=\"convertToInteractive('df-697e174e-7988-45a9-9420-5d99e574b3ab')\"\n",
              "              title=\"Convert this dataframe to an interactive table.\"\n",
              "              style=\"display:none;\">\n",
              "        \n",
              "  <svg xmlns=\"http://www.w3.org/2000/svg\" height=\"24px\"viewBox=\"0 0 24 24\"\n",
              "       width=\"24px\">\n",
              "    <path d=\"M0 0h24v24H0V0z\" fill=\"none\"/>\n",
              "    <path d=\"M18.56 5.44l.94 2.06.94-2.06 2.06-.94-2.06-.94-.94-2.06-.94 2.06-2.06.94zm-11 1L8.5 8.5l.94-2.06 2.06-.94-2.06-.94L8.5 2.5l-.94 2.06-2.06.94zm10 10l.94 2.06.94-2.06 2.06-.94-2.06-.94-.94-2.06-.94 2.06-2.06.94z\"/><path d=\"M17.41 7.96l-1.37-1.37c-.4-.4-.92-.59-1.43-.59-.52 0-1.04.2-1.43.59L10.3 9.45l-7.72 7.72c-.78.78-.78 2.05 0 2.83L4 21.41c.39.39.9.59 1.41.59.51 0 1.02-.2 1.41-.59l7.78-7.78 2.81-2.81c.8-.78.8-2.07 0-2.86zM5.41 20L4 18.59l7.72-7.72 1.47 1.35L5.41 20z\"/>\n",
              "  </svg>\n",
              "      </button>\n",
              "      \n",
              "  <style>\n",
              "    .colab-df-container {\n",
              "      display:flex;\n",
              "      flex-wrap:wrap;\n",
              "      gap: 12px;\n",
              "    }\n",
              "\n",
              "    .colab-df-convert {\n",
              "      background-color: #E8F0FE;\n",
              "      border: none;\n",
              "      border-radius: 50%;\n",
              "      cursor: pointer;\n",
              "      display: none;\n",
              "      fill: #1967D2;\n",
              "      height: 32px;\n",
              "      padding: 0 0 0 0;\n",
              "      width: 32px;\n",
              "    }\n",
              "\n",
              "    .colab-df-convert:hover {\n",
              "      background-color: #E2EBFA;\n",
              "      box-shadow: 0px 1px 2px rgba(60, 64, 67, 0.3), 0px 1px 3px 1px rgba(60, 64, 67, 0.15);\n",
              "      fill: #174EA6;\n",
              "    }\n",
              "\n",
              "    [theme=dark] .colab-df-convert {\n",
              "      background-color: #3B4455;\n",
              "      fill: #D2E3FC;\n",
              "    }\n",
              "\n",
              "    [theme=dark] .colab-df-convert:hover {\n",
              "      background-color: #434B5C;\n",
              "      box-shadow: 0px 1px 3px 1px rgba(0, 0, 0, 0.15);\n",
              "      filter: drop-shadow(0px 1px 2px rgba(0, 0, 0, 0.3));\n",
              "      fill: #FFFFFF;\n",
              "    }\n",
              "  </style>\n",
              "\n",
              "      <script>\n",
              "        const buttonEl =\n",
              "          document.querySelector('#df-697e174e-7988-45a9-9420-5d99e574b3ab button.colab-df-convert');\n",
              "        buttonEl.style.display =\n",
              "          google.colab.kernel.accessAllowed ? 'block' : 'none';\n",
              "\n",
              "        async function convertToInteractive(key) {\n",
              "          const element = document.querySelector('#df-697e174e-7988-45a9-9420-5d99e574b3ab');\n",
              "          const dataTable =\n",
              "            await google.colab.kernel.invokeFunction('convertToInteractive',\n",
              "                                                     [key], {});\n",
              "          if (!dataTable) return;\n",
              "\n",
              "          const docLinkHtml = 'Like what you see? Visit the ' +\n",
              "            '<a target=\"_blank\" href=https://colab.research.google.com/notebooks/data_table.ipynb>data table notebook</a>'\n",
              "            + ' to learn more about interactive tables.';\n",
              "          element.innerHTML = '';\n",
              "          dataTable['output_type'] = 'display_data';\n",
              "          await google.colab.output.renderOutput(dataTable, element);\n",
              "          const docLink = document.createElement('div');\n",
              "          docLink.innerHTML = docLinkHtml;\n",
              "          element.appendChild(docLink);\n",
              "        }\n",
              "      </script>\n",
              "    </div>\n",
              "  </div>\n",
              "  "
            ]
          },
          "metadata": {},
          "execution_count": 50
        }
      ],
      "source": [
        "df.head(5)"
      ]
    },
    {
      "cell_type": "code",
      "execution_count": null,
      "metadata": {
        "colab": {
          "base_uri": "https://localhost:8080/"
        },
        "id": "YI5NlnFe3kJ3",
        "outputId": "a9cca82d-01e4-4301-d111-be0d707b759a"
      },
      "outputs": [
        {
          "output_type": "stream",
          "name": "stdout",
          "text": [
            "<class 'pandas.core.frame.DataFrame'>\n",
            "RangeIndex: 404290 entries, 0 to 404289\n",
            "Data columns (total 6 columns):\n",
            " #   Column        Non-Null Count   Dtype \n",
            "---  ------        --------------   ----- \n",
            " 0   id            404290 non-null  int64 \n",
            " 1   qid1          404290 non-null  int64 \n",
            " 2   qid2          404290 non-null  int64 \n",
            " 3   question1     404289 non-null  object\n",
            " 4   question2     404288 non-null  object\n",
            " 5   is_duplicate  404290 non-null  int64 \n",
            "dtypes: int64(4), object(2)\n",
            "memory usage: 18.5+ MB\n"
          ]
        }
      ],
      "source": [
        "df.info()"
      ]
    },
    {
      "cell_type": "markdown",
      "metadata": {
        "id": "pBIGbO3v3pY3"
      },
      "source": [
        "Here we can see that we have some missing value in question1 (1 Question) and question2 (2 Question)\n",
        "3.2.1 Distribution of data points among output classes"
      ]
    },
    {
      "cell_type": "code",
      "execution_count": null,
      "metadata": {
        "colab": {
          "base_uri": "https://localhost:8080/",
          "height": 461
        },
        "id": "u7QEujMW3sMo",
        "outputId": "3326c12a-f348-40a0-f8ed-b7fe66a28e20"
      },
      "outputs": [
        {
          "output_type": "execute_result",
          "data": {
            "text/plain": [
              "<Axes: xlabel='is_duplicate'>"
            ]
          },
          "metadata": {},
          "execution_count": 58
        },
        {
          "output_type": "display_data",
          "data": {
            "text/plain": [
              "<Figure size 640x480 with 1 Axes>"
            ],
            "image/png": "[encoded data removed]"
          },
          "metadata": {}
        }
      ],
      "source": [
        "# Checking if we have imbalance data or not\n",
        "df.groupby(\"is_duplicate\")['id'].count().plot.bar()"
      ]
    },
    {
      "cell_type": "markdown",
      "metadata": {
        "id": "d3M7msDJ4YUo"
      },
      "source": [
        "Checking if dataset is balanced or imbalanced"
      ]
    },
    {
      "cell_type": "code",
      "execution_count": null,
      "metadata": {
        "colab": {
          "base_uri": "https://localhost:8080/"
        },
        "id": "sPyBEYsh4ZJg",
        "outputId": "6863d514-3f18-4499-dea2-f9ab74a75b0b"
      },
      "outputs": [
        {
          "output_type": "stream",
          "name": "stdout",
          "text": [
            "Total number of  Unique Questions are: 537933\n",
            "\n"
          ]
        }
      ],
      "source": [
        "unique=len(set(list(df['qid1'])+list(df['qid2'])))\n",
        "print ('Total number of  Unique Questions are: {}\\n'.format(unique))"
      ]
    },
    {
      "cell_type": "markdown",
      "metadata": {
        "id": "10SvbFSy4fTw"
      },
      "source": [
        "Percentage of Similar question and Non-Similar Question"
      ]
    },
    {
      "cell_type": "code",
      "execution_count": null,
      "metadata": {
        "colab": {
          "base_uri": "https://localhost:8080/"
        },
        "id": "41OwlM5J4f8_",
        "outputId": "f77b987f-a23a-471f-ae9c-1b6f243b4150"
      },
      "outputs": [
        {
          "output_type": "stream",
          "name": "stdout",
          "text": [
            "-->> Question pairs are not Similar (is_duplicate = 0):\n",
            "     63.08%\n",
            "-->> Question pairs are Similar (is_duplicate = 1):\n",
            "     36.92%\n"
          ]
        }
      ],
      "source": [
        "print('-->> Question pairs are not Similar (is_duplicate = 0):\\n     {}%'.format(100 - round(df['is_duplicate'].mean()*100, 2)))\n",
        "print('-->> Question pairs are Similar (is_duplicate = 1):\\n     {}%'.format(round(df['is_duplicate'].mean()*100, 2)))"
      ]
    },
    {
      "cell_type": "code",
      "execution_count": null,
      "metadata": {
        "id": "dED4OPzW4lpZ",
        "colab": {
          "base_uri": "https://localhost:8080/"
        },
        "outputId": "57bc9f7d-7c0f-444d-aee5-5a8e5c607692"
      },
      "outputs": [
        {
          "output_type": "stream",
          "name": "stdout",
          "text": [
            "Total number of  Unique Questions are: 537933\n",
            "\n",
            "Number of unique questions that appear more than one time: 111780 (20.78%)\n",
            "\n",
            "Max number of times a single question is repeated: 157\n",
            "\n",
            "2559      157\n",
            "30782     120\n",
            "4044      111\n",
            "2561       88\n",
            "14376      79\n",
            "         ... \n",
            "416446      1\n",
            "416444      1\n",
            "416441      1\n",
            "416439      1\n",
            "537933      1\n",
            "Length: 537933, dtype: int64\n"
          ]
        }
      ],
      "source": [
        "qids = pd.Series(list(df['qid1']) + list(df['qid2'])) #Creating a dataframe that contains the question id of both quid1 and quid2\n",
        "unique_qs = len(np.unique(qids))  #Numpy array to filter down all unique elements\n",
        "qs_morethan_onetime = np.sum(qids.value_counts() > 1)   # Counts any question that have been repeated more than one time\n",
        "print ('Total number of  Unique Questions are: {}\\n'.format(unique_qs))\n",
        "#len(set(list(df['qid1'])+list(df['qid2'])))\n",
        "\n",
        "\n",
        "print ('Number of unique questions that appear more than one time: {} ({}%)\\n'.format(qs_morethan_onetime,round(qs_morethan_onetime/unique_qs*100,2)))\n",
        "\n",
        "print ('Max number of times a single question is repeated: {}\\n'.format(max(qids.value_counts()))) # Taking the frequency of all question and printing the max of them\n",
        "\n",
        "q_vals=qids.value_counts()\n",
        "print(q_vals)\n",
        "\n",
        "q_vals=q_vals.values"
      ]
    },
    {
      "cell_type": "markdown",
      "metadata": {
        "id": "9R15CSBw4qk_"
      },
      "source": [
        "Here we can see questions with qid [2559 ,30182 4044] are some the question that are repeated multiple times\n",
        "Lets have look at those questions one by one"
      ]
    },
    {
      "cell_type": "code",
      "execution_count": null,
      "metadata": {
        "colab": {
          "base_uri": "https://localhost:8080/"
        },
        "id": "p_sOny3L4tzY",
        "outputId": "f280e5b6-2d5c-4566-c604-b58e84c39aa7"
      },
      "outputs": [
        {
          "output_type": "stream",
          "name": "stdout",
          "text": [
            "['What are the best ways to lose weight?']\n",
            "==================================================\n",
            "                                                  \n",
            "['How is borderline personality disorder (BPD) treated?']\n",
            "==================================================\n",
            "                                                  \n",
            "['How can I lose weight quickly?']\n"
          ]
        }
      ],
      "source": [
        "# Looking at questions that are asked most frequently\n",
        "\n",
        "print(df.loc[df['qid1']==2559]['question1'].head(1).values)\n",
        "print('='*50)\n",
        "print(\" \"*50)\n",
        "print(df.loc[df['qid1']==30182]['question1'].head(1).values)\n",
        "print('='*50)\n",
        "print(\" \"*50)\n",
        "print(df.loc[df['qid1']==4044]['question1'].head(1).values)"
      ]
    },
    {
      "cell_type": "code",
      "execution_count": null,
      "metadata": {
        "colab": {
          "base_uri": "https://localhost:8080/",
          "height": 545
        },
        "id": "0QZanaJx4wTY",
        "outputId": "a591774b-70bd-445c-dab1-318f488ed420"
      },
      "outputs": [
        {
          "output_type": "display_data",
          "data": {
            "text/plain": [
              "<Figure size 800x600 with 1 Axes>"
            ],
            "image/png": "[encoded data removed]"
          },
          "metadata": {}
        }
      ],
      "source": [
        "\n",
        "x = [\"unique_questions\", \"Repeated Questions\"]\n",
        "y = [unique_qs, qs_morethan_onetime]\n",
        "\n",
        "plt.figure(figsize=(8, 6))\n",
        "plt.title(\"Plot representing unique and repeated questions\")\n",
        "sns.barplot(x=x, y=y)\n",
        "plt.show()"
      ]
    },
    {
      "cell_type": "code",
      "execution_count": null,
      "metadata": {
        "colab": {
          "base_uri": "https://localhost:8080/"
        },
        "id": "rfNQdBNp4yaY",
        "outputId": "7b3233a8-d833-44d8-a352-8b8daa8f21b5"
      },
      "outputs": [
        {
          "output_type": "stream",
          "name": "stdout",
          "text": [
            "Number of duplicate questions :  0\n"
          ]
        }
      ],
      "source": [
        "#checking whether there are any repeated pair of questions\n",
        "\n",
        "duplicateRowsDF = df[df.duplicated(['qid1','qid2'])]   # Collecting all Duplicate data into a dataframe so than we can also see what duplicate value we have\n",
        "\n",
        "print (\"Number of duplicate questions : \",duplicateRowsDF.shape[0])"
      ]
    },
    {
      "cell_type": "markdown",
      "metadata": {
        "id": "pS00P5c542Iw"
      },
      "source": [
        "Plotting Questions based on there frequency"
      ]
    },
    {
      "cell_type": "code",
      "execution_count": null,
      "metadata": {
        "colab": {
          "base_uri": "https://localhost:8080/",
          "height": 449
        },
        "id": "S-ubAOea40yZ",
        "outputId": "bc9f4107-5d9c-414c-8bf0-7da2816f68e1"
      },
      "outputs": [
        {
          "output_type": "stream",
          "name": "stdout",
          "text": [
            "Maximum number of times a single question is repeated: 157\n",
            "\n"
          ]
        },
        {
          "output_type": "display_data",
          "data": {
            "text/plain": [
              "<Figure size 3000x1000 with 1 Axes>"
            ],
            "image/png": "[encoded data removed]"
          },
          "metadata": {}
        }
      ],
      "source": [
        "plt.figure(figsize=(30, 10))\n",
        "\n",
        "plt.hist(qids.value_counts(), bins=250)\n",
        "\n",
        "plt.yscale('log')\n",
        "\n",
        "plt.title('Log-Histogram of question appearance counts')\n",
        "\n",
        "plt.xlabel('Number of occurences of question')\n",
        "\n",
        "plt.ylabel('Number of questions')\n",
        "\n",
        "print ('Maximum number of times a single question is repeated: {}\\n'.format(max(qids.value_counts())))"
      ]
    },
    {
      "cell_type": "markdown",
      "metadata": {
        "id": "qHzCq4JW4_cw"
      },
      "source": [
        "Checking and Removing Null Value"
      ]
    },
    {
      "cell_type": "code",
      "execution_count": null,
      "metadata": {
        "colab": {
          "base_uri": "https://localhost:8080/",
          "height": 213
        },
        "id": "_iy1Demq48MI",
        "outputId": "dceb6c12-1138-4cb1-b17a-f9d6daedf189"
      },
      "outputs": [
        {
          "output_type": "stream",
          "name": "stderr",
          "text": [
            "<ipython-input-66-5c95d3133d80>:1: FutureWarning:\n",
            "\n",
            "In a future version of pandas all arguments of DataFrame.any and Series.any will be keyword-only.\n",
            "\n"
          ]
        },
        {
          "output_type": "execute_result",
          "data": {
            "text/plain": [
              "            id    qid1    qid2                         question1  \\\n",
              "105780  105780  174363  174364    How can I develop android app?   \n",
              "201841  201841  303951  174364  How can I create an Android app?   \n",
              "363362  363362  493340  493341                               NaN   \n",
              "\n",
              "                                                question2  is_duplicate  \\\n",
              "105780                                                NaN             0   \n",
              "201841                                                NaN             0   \n",
              "363362  My Chinese name is Haichao Yu. What English na...             0   \n",
              "\n",
              "        Q1_Len  Q2_Len  \n",
              "105780    30.0     NaN  \n",
              "201841    32.0     NaN  \n",
              "363362     NaN   123.0  "
            ],
            "text/html": [
              "\n",
              "  <div id=\"df-69d55245-07e9-4394-b07a-1684ae07b3c5\">\n",
              "    <div class=\"colab-df-container\">\n",
              "      <div>\n",
              "<style scoped>\n",
              "    .dataframe tbody tr th:only-of-type {\n",
              "        vertical-align: middle;\n",
              "    }\n",
              "\n",
              "    .dataframe tbody tr th {\n",
              "        vertical-align: top;\n",
              "    }\n",
              "\n",
              "    .dataframe thead th {\n",
              "        text-align: right;\n",
              "    }\n",
              "</style>\n",
              "<table border=\"1\" class=\"dataframe\">\n",
              "  <thead>\n",
              "    <tr style=\"text-align: right;\">\n",
              "      <th></th>\n",
              "      <th>id</th>\n",
              "      <th>qid1</th>\n",
              "      <th>qid2</th>\n",
              "      <th>question1</th>\n",
              "      <th>question2</th>\n",
              "      <th>is_duplicate</th>\n",
              "      <th>Q1_Len</th>\n",
              "      <th>Q2_Len</th>\n",
              "    </tr>\n",
              "  </thead>\n",
              "  <tbody>\n",
              "    <tr>\n",
              "      <th>105780</th>\n",
              "      <td>105780</td>\n",
              "      <td>174363</td>\n",
              "      <td>174364</td>\n",
              "      <td>How can I develop android app?</td>\n",
              "      <td>NaN</td>\n",
              "      <td>0</td>\n",
              "      <td>30.0</td>\n",
              "      <td>NaN</td>\n",
              "    </tr>\n",
              "    <tr>\n",
              "      <th>201841</th>\n",
              "      <td>201841</td>\n",
              "      <td>303951</td>\n",
              "      <td>174364</td>\n",
              "      <td>How can I create an Android app?</td>\n",
              "      <td>NaN</td>\n",
              "      <td>0</td>\n",
              "      <td>32.0</td>\n",
              "      <td>NaN</td>\n",
              "    </tr>\n",
              "    <tr>\n",
              "      <th>363362</th>\n",
              "      <td>363362</td>\n",
              "      <td>493340</td>\n",
              "      <td>493341</td>\n",
              "      <td>NaN</td>\n",
              "      <td>My Chinese name is Haichao Yu. What English na...</td>\n",
              "      <td>0</td>\n",
              "      <td>NaN</td>\n",
              "      <td>123.0</td>\n",
              "    </tr>\n",
              "  </tbody>\n",
              "</table>\n",
              "</div>\n",
              "      <button class=\"colab-df-convert\" onclick=\"convertToInteractive('df-69d55245-07e9-4394-b07a-1684ae07b3c5')\"\n",
              "              title=\"Convert this dataframe to an interactive table.\"\n",
              "              style=\"display:none;\">\n",
              "        \n",
              "  <svg xmlns=\"http://www.w3.org/2000/svg\" height=\"24px\"viewBox=\"0 0 24 24\"\n",
              "       width=\"24px\">\n",
              "    <path d=\"M0 0h24v24H0V0z\" fill=\"none\"/>\n",
              "    <path d=\"M18.56 5.44l.94 2.06.94-2.06 2.06-.94-2.06-.94-.94-2.06-.94 2.06-2.06.94zm-11 1L8.5 8.5l.94-2.06 2.06-.94-2.06-.94L8.5 2.5l-.94 2.06-2.06.94zm10 10l.94 2.06.94-2.06 2.06-.94-2.06-.94-.94-2.06-.94 2.06-2.06.94z\"/><path d=\"M17.41 7.96l-1.37-1.37c-.4-.4-.92-.59-1.43-.59-.52 0-1.04.2-1.43.59L10.3 9.45l-7.72 7.72c-.78.78-.78 2.05 0 2.83L4 21.41c.39.39.9.59 1.41.59.51 0 1.02-.2 1.41-.59l7.78-7.78 2.81-2.81c.8-.78.8-2.07 0-2.86zM5.41 20L4 18.59l7.72-7.72 1.47 1.35L5.41 20z\"/>\n",
              "  </svg>\n",
              "      </button>\n",
              "      \n",
              "  <style>\n",
              "    .colab-df-container {\n",
              "      display:flex;\n",
              "      flex-wrap:wrap;\n",
              "      gap: 12px;\n",
              "    }\n",
              "\n",
              "    .colab-df-convert {\n",
              "      background-color: #E8F0FE;\n",
              "      border: none;\n",
              "      border-radius: 50%;\n",
              "      cursor: pointer;\n",
              "      display: none;\n",
              "      fill: #1967D2;\n",
              "      height: 32px;\n",
              "      padding: 0 0 0 0;\n",
              "      width: 32px;\n",
              "    }\n",
              "\n",
              "    .colab-df-convert:hover {\n",
              "      background-color: #E2EBFA;\n",
              "      box-shadow: 0px 1px 2px rgba(60, 64, 67, 0.3), 0px 1px 3px 1px rgba(60, 64, 67, 0.15);\n",
              "      fill: #174EA6;\n",
              "    }\n",
              "\n",
              "    [theme=dark] .colab-df-convert {\n",
              "      background-color: #3B4455;\n",
              "      fill: #D2E3FC;\n",
              "    }\n",
              "\n",
              "    [theme=dark] .colab-df-convert:hover {\n",
              "      background-color: #434B5C;\n",
              "      box-shadow: 0px 1px 3px 1px rgba(0, 0, 0, 0.15);\n",
              "      filter: drop-shadow(0px 1px 2px rgba(0, 0, 0, 0.3));\n",
              "      fill: #FFFFFF;\n",
              "    }\n",
              "  </style>\n",
              "\n",
              "      <script>\n",
              "        const buttonEl =\n",
              "          document.querySelector('#df-69d55245-07e9-4394-b07a-1684ae07b3c5 button.colab-df-convert');\n",
              "        buttonEl.style.display =\n",
              "          google.colab.kernel.accessAllowed ? 'block' : 'none';\n",
              "\n",
              "        async function convertToInteractive(key) {\n",
              "          const element = document.querySelector('#df-69d55245-07e9-4394-b07a-1684ae07b3c5');\n",
              "          const dataTable =\n",
              "            await google.colab.kernel.invokeFunction('convertToInteractive',\n",
              "                                                     [key], {});\n",
              "          if (!dataTable) return;\n",
              "\n",
              "          const docLinkHtml = 'Like what you see? Visit the ' +\n",
              "            '<a target=\"_blank\" href=https://colab.research.google.com/notebooks/data_table.ipynb>data table notebook</a>'\n",
              "            + ' to learn more about interactive tables.';\n",
              "          element.innerHTML = '';\n",
              "          dataTable['output_type'] = 'display_data';\n",
              "          await google.colab.output.renderOutput(dataTable, element);\n",
              "          const docLink = document.createElement('div');\n",
              "          docLink.innerHTML = docLinkHtml;\n",
              "          element.appendChild(docLink);\n",
              "        }\n",
              "      </script>\n",
              "    </div>\n",
              "  </div>\n",
              "  "
            ]
          },
          "metadata": {},
          "execution_count": 66
        }
      ],
      "source": [
        "df[df.isnull().any(1)] # Checking if any value is null in our dataset"
      ]
    },
    {
      "cell_type": "code",
      "execution_count": null,
      "metadata": {
        "colab": {
          "base_uri": "https://localhost:8080/",
          "height": 119
        },
        "id": "HBlVjSs06X2B",
        "outputId": "e91ffc4e-bb24-4f2b-e680-6833d890569f"
      },
      "outputs": [
        {
          "output_type": "stream",
          "name": "stderr",
          "text": [
            "<ipython-input-67-f0d2741a93d6>:2: FutureWarning:\n",
            "\n",
            "In a future version of pandas all arguments of DataFrame.any and Series.any will be keyword-only.\n",
            "\n"
          ]
        },
        {
          "output_type": "execute_result",
          "data": {
            "text/plain": [
              "Empty DataFrame\n",
              "Columns: [id, qid1, qid2, question1, question2, is_duplicate, Q1_Len, Q2_Len]\n",
              "Index: []"
            ],
            "text/html": [
              "\n",
              "  <div id=\"df-a0e38b99-8d09-4311-bdfb-0b42409a1f06\">\n",
              "    <div class=\"colab-df-container\">\n",
              "      <div>\n",
              "<style scoped>\n",
              "    .dataframe tbody tr th:only-of-type {\n",
              "        vertical-align: middle;\n",
              "    }\n",
              "\n",
              "    .dataframe tbody tr th {\n",
              "        vertical-align: top;\n",
              "    }\n",
              "\n",
              "    .dataframe thead th {\n",
              "        text-align: right;\n",
              "    }\n",
              "</style>\n",
              "<table border=\"1\" class=\"dataframe\">\n",
              "  <thead>\n",
              "    <tr style=\"text-align: right;\">\n",
              "      <th></th>\n",
              "      <th>id</th>\n",
              "      <th>qid1</th>\n",
              "      <th>qid2</th>\n",
              "      <th>question1</th>\n",
              "      <th>question2</th>\n",
              "      <th>is_duplicate</th>\n",
              "      <th>Q1_Len</th>\n",
              "      <th>Q2_Len</th>\n",
              "    </tr>\n",
              "  </thead>\n",
              "  <tbody>\n",
              "  </tbody>\n",
              "</table>\n",
              "</div>\n",
              "      <button class=\"colab-df-convert\" onclick=\"convertToInteractive('df-a0e38b99-8d09-4311-bdfb-0b42409a1f06')\"\n",
              "              title=\"Convert this dataframe to an interactive table.\"\n",
              "              style=\"display:none;\">\n",
              "        \n",
              "  <svg xmlns=\"http://www.w3.org/2000/svg\" height=\"24px\"viewBox=\"0 0 24 24\"\n",
              "       width=\"24px\">\n",
              "    <path d=\"M0 0h24v24H0V0z\" fill=\"none\"/>\n",
              "    <path d=\"M18.56 5.44l.94 2.06.94-2.06 2.06-.94-2.06-.94-.94-2.06-.94 2.06-2.06.94zm-11 1L8.5 8.5l.94-2.06 2.06-.94-2.06-.94L8.5 2.5l-.94 2.06-2.06.94zm10 10l.94 2.06.94-2.06 2.06-.94-2.06-.94-.94-2.06-.94 2.06-2.06.94z\"/><path d=\"M17.41 7.96l-1.37-1.37c-.4-.4-.92-.59-1.43-.59-.52 0-1.04.2-1.43.59L10.3 9.45l-7.72 7.72c-.78.78-.78 2.05 0 2.83L4 21.41c.39.39.9.59 1.41.59.51 0 1.02-.2 1.41-.59l7.78-7.78 2.81-2.81c.8-.78.8-2.07 0-2.86zM5.41 20L4 18.59l7.72-7.72 1.47 1.35L5.41 20z\"/>\n",
              "  </svg>\n",
              "      </button>\n",
              "      \n",
              "  <style>\n",
              "    .colab-df-container {\n",
              "      display:flex;\n",
              "      flex-wrap:wrap;\n",
              "      gap: 12px;\n",
              "    }\n",
              "\n",
              "    .colab-df-convert {\n",
              "      background-color: #E8F0FE;\n",
              "      border: none;\n",
              "      border-radius: 50%;\n",
              "      cursor: pointer;\n",
              "      display: none;\n",
              "      fill: #1967D2;\n",
              "      height: 32px;\n",
              "      padding: 0 0 0 0;\n",
              "      width: 32px;\n",
              "    }\n",
              "\n",
              "    .colab-df-convert:hover {\n",
              "      background-color: #E2EBFA;\n",
              "      box-shadow: 0px 1px 2px rgba(60, 64, 67, 0.3), 0px 1px 3px 1px rgba(60, 64, 67, 0.15);\n",
              "      fill: #174EA6;\n",
              "    }\n",
              "\n",
              "    [theme=dark] .colab-df-convert {\n",
              "      background-color: #3B4455;\n",
              "      fill: #D2E3FC;\n",
              "    }\n",
              "\n",
              "    [theme=dark] .colab-df-convert:hover {\n",
              "      background-color: #434B5C;\n",
              "      box-shadow: 0px 1px 3px 1px rgba(0, 0, 0, 0.15);\n",
              "      filter: drop-shadow(0px 1px 2px rgba(0, 0, 0, 0.3));\n",
              "      fill: #FFFFFF;\n",
              "    }\n",
              "  </style>\n",
              "\n",
              "      <script>\n",
              "        const buttonEl =\n",
              "          document.querySelector('#df-a0e38b99-8d09-4311-bdfb-0b42409a1f06 button.colab-df-convert');\n",
              "        buttonEl.style.display =\n",
              "          google.colab.kernel.accessAllowed ? 'block' : 'none';\n",
              "\n",
              "        async function convertToInteractive(key) {\n",
              "          const element = document.querySelector('#df-a0e38b99-8d09-4311-bdfb-0b42409a1f06');\n",
              "          const dataTable =\n",
              "            await google.colab.kernel.invokeFunction('convertToInteractive',\n",
              "                                                     [key], {});\n",
              "          if (!dataTable) return;\n",
              "\n",
              "          const docLinkHtml = 'Like what you see? Visit the ' +\n",
              "            '<a target=\"_blank\" href=https://colab.research.google.com/notebooks/data_table.ipynb>data table notebook</a>'\n",
              "            + ' to learn more about interactive tables.';\n",
              "          element.innerHTML = '';\n",
              "          dataTable['output_type'] = 'display_data';\n",
              "          await google.colab.output.renderOutput(dataTable, element);\n",
              "          const docLink = document.createElement('div');\n",
              "          docLink.innerHTML = docLinkHtml;\n",
              "          element.appendChild(docLink);\n",
              "        }\n",
              "      </script>\n",
              "    </div>\n",
              "  </div>\n",
              "  "
            ]
          },
          "metadata": {},
          "execution_count": 67
        }
      ],
      "source": [
        "df.dropna(inplace=True)  # Droping Null Value\n",
        "df[df.isnull().any(1)]"
      ]
    },
    {
      "cell_type": "code",
      "execution_count": null,
      "metadata": {
        "colab": {
          "base_uri": "https://localhost:8080/",
          "height": 423
        },
        "id": "iscKdV866bg9",
        "outputId": "a65d1bf0-da6e-4bd1-b67c-5b9151b4b7e3"
      },
      "outputs": [
        {
          "output_type": "execute_result",
          "data": {
            "text/plain": [
              "   id  qid1  qid2                                          question1  \\\n",
              "0   0     1     2  What is the step by step guide to invest in sh...   \n",
              "1   1     3     4  What is the story of Kohinoor (Koh-i-Noor) Dia...   \n",
              "2   2     5     6  How can I increase the speed of my internet co...   \n",
              "3   3     7     8  Why am I mentally very lonely? How can I solve...   \n",
              "4   4     9    10  Which one dissolve in water quikly sugar, salt...   \n",
              "\n",
              "                                           question2  is_duplicate  Q1_Len  \\\n",
              "0  What is the step by step guide to invest in sh...             0      66   \n",
              "1  What would happen if the Indian government sto...             0      51   \n",
              "2  How can Internet speed be increased by hacking...             0      73   \n",
              "3  Find the remainder when [math]23^{24}[/math] i...             0      50   \n",
              "4            Which fish would survive in salt water?             0      76   \n",
              "\n",
              "   Q2_Len  Q1_Words  Q2_Words  common_Word  word_Total  Shared_Word  \n",
              "0      57        14        12           10          23     0.434783  \n",
              "1      88         8        13            4          20     0.200000  \n",
              "2      59        14        10            4          24     0.166667  \n",
              "3      65        11         9            0          19     0.000000  \n",
              "4      39        13         7            2          20     0.100000  "
            ],
            "text/html": [
              "\n",
              "  <div id=\"df-af5b2617-848a-42a2-9031-962e29ca5119\">\n",
              "    <div class=\"colab-df-container\">\n",
              "      <div>\n",
              "<style scoped>\n",
              "    .dataframe tbody tr th:only-of-type {\n",
              "        vertical-align: middle;\n",
              "    }\n",
              "\n",
              "    .dataframe tbody tr th {\n",
              "        vertical-align: top;\n",
              "    }\n",
              "\n",
              "    .dataframe thead th {\n",
              "        text-align: right;\n",
              "    }\n",
              "</style>\n",
              "<table border=\"1\" class=\"dataframe\">\n",
              "  <thead>\n",
              "    <tr style=\"text-align: right;\">\n",
              "      <th></th>\n",
              "      <th>id</th>\n",
              "      <th>qid1</th>\n",
              "      <th>qid2</th>\n",
              "      <th>question1</th>\n",
              "      <th>question2</th>\n",
              "      <th>is_duplicate</th>\n",
              "      <th>Q1_Len</th>\n",
              "      <th>Q2_Len</th>\n",
              "      <th>Q1_Words</th>\n",
              "      <th>Q2_Words</th>\n",
              "      <th>common_Word</th>\n",
              "      <th>word_Total</th>\n",
              "      <th>Shared_Word</th>\n",
              "    </tr>\n",
              "  </thead>\n",
              "  <tbody>\n",
              "    <tr>\n",
              "      <th>0</th>\n",
              "      <td>0</td>\n",
              "      <td>1</td>\n",
              "      <td>2</td>\n",
              "      <td>What is the step by step guide to invest in sh...</td>\n",
              "      <td>What is the step by step guide to invest in sh...</td>\n",
              "      <td>0</td>\n",
              "      <td>66</td>\n",
              "      <td>57</td>\n",
              "      <td>14</td>\n",
              "      <td>12</td>\n",
              "      <td>10</td>\n",
              "      <td>23</td>\n",
              "      <td>0.434783</td>\n",
              "    </tr>\n",
              "    <tr>\n",
              "      <th>1</th>\n",
              "      <td>1</td>\n",
              "      <td>3</td>\n",
              "      <td>4</td>\n",
              "      <td>What is the story of Kohinoor (Koh-i-Noor) Dia...</td>\n",
              "      <td>What would happen if the Indian government sto...</td>\n",
              "      <td>0</td>\n",
              "      <td>51</td>\n",
              "      <td>88</td>\n",
              "      <td>8</td>\n",
              "      <td>13</td>\n",
              "      <td>4</td>\n",
              "      <td>20</td>\n",
              "      <td>0.200000</td>\n",
              "    </tr>\n",
              "    <tr>\n",
              "      <th>2</th>\n",
              "      <td>2</td>\n",
              "      <td>5</td>\n",
              "      <td>6</td>\n",
              "      <td>How can I increase the speed of my internet co...</td>\n",
              "      <td>How can Internet speed be increased by hacking...</td>\n",
              "      <td>0</td>\n",
              "      <td>73</td>\n",
              "      <td>59</td>\n",
              "      <td>14</td>\n",
              "      <td>10</td>\n",
              "      <td>4</td>\n",
              "      <td>24</td>\n",
              "      <td>0.166667</td>\n",
              "    </tr>\n",
              "    <tr>\n",
              "      <th>3</th>\n",
              "      <td>3</td>\n",
              "      <td>7</td>\n",
              "      <td>8</td>\n",
              "      <td>Why am I mentally very lonely? How can I solve...</td>\n",
              "      <td>Find the remainder when [math]23^{24}[/math] i...</td>\n",
              "      <td>0</td>\n",
              "      <td>50</td>\n",
              "      <td>65</td>\n",
              "      <td>11</td>\n",
              "      <td>9</td>\n",
              "      <td>0</td>\n",
              "      <td>19</td>\n",
              "      <td>0.000000</td>\n",
              "    </tr>\n",
              "    <tr>\n",
              "      <th>4</th>\n",
              "      <td>4</td>\n",
              "      <td>9</td>\n",
              "      <td>10</td>\n",
              "      <td>Which one dissolve in water quikly sugar, salt...</td>\n",
              "      <td>Which fish would survive in salt water?</td>\n",
              "      <td>0</td>\n",
              "      <td>76</td>\n",
              "      <td>39</td>\n",
              "      <td>13</td>\n",
              "      <td>7</td>\n",
              "      <td>2</td>\n",
              "      <td>20</td>\n",
              "      <td>0.100000</td>\n",
              "    </tr>\n",
              "  </tbody>\n",
              "</table>\n",
              "</div>\n",
              "      <button class=\"colab-df-convert\" onclick=\"convertToInteractive('df-af5b2617-848a-42a2-9031-962e29ca5119')\"\n",
              "              title=\"Convert this dataframe to an interactive table.\"\n",
              "              style=\"display:none;\">\n",
              "        \n",
              "  <svg xmlns=\"http://www.w3.org/2000/svg\" height=\"24px\"viewBox=\"0 0 24 24\"\n",
              "       width=\"24px\">\n",
              "    <path d=\"M0 0h24v24H0V0z\" fill=\"none\"/>\n",
              "    <path d=\"M18.56 5.44l.94 2.06.94-2.06 2.06-.94-2.06-.94-.94-2.06-.94 2.06-2.06.94zm-11 1L8.5 8.5l.94-2.06 2.06-.94-2.06-.94L8.5 2.5l-.94 2.06-2.06.94zm10 10l.94 2.06.94-2.06 2.06-.94-2.06-.94-.94-2.06-.94 2.06-2.06.94z\"/><path d=\"M17.41 7.96l-1.37-1.37c-.4-.4-.92-.59-1.43-.59-.52 0-1.04.2-1.43.59L10.3 9.45l-7.72 7.72c-.78.78-.78 2.05 0 2.83L4 21.41c.39.39.9.59 1.41.59.51 0 1.02-.2 1.41-.59l7.78-7.78 2.81-2.81c.8-.78.8-2.07 0-2.86zM5.41 20L4 18.59l7.72-7.72 1.47 1.35L5.41 20z\"/>\n",
              "  </svg>\n",
              "      </button>\n",
              "      \n",
              "  <style>\n",
              "    .colab-df-container {\n",
              "      display:flex;\n",
              "      flex-wrap:wrap;\n",
              "      gap: 12px;\n",
              "    }\n",
              "\n",
              "    .colab-df-convert {\n",
              "      background-color: #E8F0FE;\n",
              "      border: none;\n",
              "      border-radius: 50%;\n",
              "      cursor: pointer;\n",
              "      display: none;\n",
              "      fill: #1967D2;\n",
              "      height: 32px;\n",
              "      padding: 0 0 0 0;\n",
              "      width: 32px;\n",
              "    }\n",
              "\n",
              "    .colab-df-convert:hover {\n",
              "      background-color: #E2EBFA;\n",
              "      box-shadow: 0px 1px 2px rgba(60, 64, 67, 0.3), 0px 1px 3px 1px rgba(60, 64, 67, 0.15);\n",
              "      fill: #174EA6;\n",
              "    }\n",
              "\n",
              "    [theme=dark] .colab-df-convert {\n",
              "      background-color: #3B4455;\n",
              "      fill: #D2E3FC;\n",
              "    }\n",
              "\n",
              "    [theme=dark] .colab-df-convert:hover {\n",
              "      background-color: #434B5C;\n",
              "      box-shadow: 0px 1px 3px 1px rgba(0, 0, 0, 0.15);\n",
              "      filter: drop-shadow(0px 1px 2px rgba(0, 0, 0, 0.3));\n",
              "      fill: #FFFFFF;\n",
              "    }\n",
              "  </style>\n",
              "\n",
              "      <script>\n",
              "        const buttonEl =\n",
              "          document.querySelector('#df-af5b2617-848a-42a2-9031-962e29ca5119 button.colab-df-convert');\n",
              "        buttonEl.style.display =\n",
              "          google.colab.kernel.accessAllowed ? 'block' : 'none';\n",
              "\n",
              "        async function convertToInteractive(key) {\n",
              "          const element = document.querySelector('#df-af5b2617-848a-42a2-9031-962e29ca5119');\n",
              "          const dataTable =\n",
              "            await google.colab.kernel.invokeFunction('convertToInteractive',\n",
              "                                                     [key], {});\n",
              "          if (!dataTable) return;\n",
              "\n",
              "          const docLinkHtml = 'Like what you see? Visit the ' +\n",
              "            '<a target=\"_blank\" href=https://colab.research.google.com/notebooks/data_table.ipynb>data table notebook</a>'\n",
              "            + ' to learn more about interactive tables.';\n",
              "          element.innerHTML = '';\n",
              "          dataTable['output_type'] = 'display_data';\n",
              "          await google.colab.output.renderOutput(dataTable, element);\n",
              "          const docLink = document.createElement('div');\n",
              "          docLink.innerHTML = docLinkHtml;\n",
              "          element.appendChild(docLink);\n",
              "        }\n",
              "      </script>\n",
              "    </div>\n",
              "  </div>\n",
              "  "
            ]
          },
          "metadata": {},
          "execution_count": 68
        }
      ],
      "source": [
        "df['Q1_Len']=df['question1'].str.len()  # Finding length of Question 1\n",
        "df['Q2_Len']=df['question2'].str.len()  # Finding length of Question 2\n",
        "\n",
        "df['Q1_Words']=df['question1'].apply(lambda row : len(row.split()))   # Finding Number of Words in Question 1\n",
        "df['Q2_Words']=df['question2'].apply(lambda row : len(row.split()))   # Finding Number of Words in Question 2\n",
        "\n",
        "# Fucntion to find the number of common words in Question 1 and Question 2\n",
        "\n",
        "def common(row):\n",
        "    '''\n",
        "    We are converting both Question 1 and Question 2 to set (and also converting them to lower so that every word have same) and finding there intersection so that we can get common words\n",
        "    Then we are simply finding the lenth of those common words\n",
        "    '''\n",
        "    return len((set(row['question1'].lower().split())).intersection(set(row['question2'].lower().split())))\n",
        "\n",
        "\n",
        "# Creating New Column with Number of Common Words\n",
        "df['common_Word'] = df.apply(common, axis=1)\n",
        "\n",
        "\n",
        "# Total Number of Distict words in both question1 and question2\n",
        "\n",
        "def total(row):\n",
        "    '''\n",
        "    Coverting them to lower form then removing extra spaces and them removing the repeted words by converting them to sets\n",
        "    Then finding Length of Both the questions and adding them to find total words in both\n",
        "    '''\n",
        "    w1 = set(map(lambda word: word.lower().strip(), row['question1'].split(\" \")))\n",
        "    w2 = set(map(lambda word: word.lower().strip(), row['question2'].split(\" \")))\n",
        "    return (len(w1) + len(w2))\n",
        "\n",
        "# Getting total number of (unique) words in both question1 and question2\n",
        "df['word_Total'] = df.apply(total, axis=1)\n",
        "\n",
        "\n",
        "def word_share(row):\n",
        "    '''\n",
        "    Here we are finding total number of shared word and dividing by total number of words [ (A intersection B)/A+B]\n",
        "     '''\n",
        "    w1 = set(map(lambda word: word.lower().strip(), row['question1'].split(\" \")))\n",
        "    w2 = set(map(lambda word: word.lower().strip(), row['question2'].split(\" \")))\n",
        "    return 1.0 * len(w1 & w2)/(len(w1) + len(w2))    # Finding the number of common words between question1 and question2 and dividing by total words between both of them\n",
        "df['Shared_Word'] = df.apply(word_share, axis=1)\n",
        "\n",
        "\n",
        "# Saving our dataframe as csv file\n",
        "df.to_csv(\"With_Feature.csv\", index=False)\n",
        "df.head()"
      ]
    },
    {
      "cell_type": "code",
      "execution_count": null,
      "metadata": {
        "colab": {
          "base_uri": "https://localhost:8080/"
        },
        "id": "bgQJCEvZ6-nY",
        "outputId": "2a592052-0ca3-4b64-e10b-8a9d3f423f44"
      },
      "outputs": [
        {
          "output_type": "stream",
          "name": "stdout",
          "text": [
            "Minimum length of the questions in question1 :  1\n",
            "Minimum length of the questions in question2 :  1\n",
            "Number of Questions with minimum length [question1] : 69\n",
            "Number of Questions with minimum length [question2] : 25\n",
            "Maximum length of the questions in question1 :  125\n",
            "Maximum length of the questions in question2 :  237\n",
            "Number of Questions with minimum length [question1] : 1\n",
            "Number of Questions with minimum length [question2] : 13\n",
            "Maximum number of Common word :  41\n",
            "Maximum number of Shared Word :  0.5\n"
          ]
        }
      ],
      "source": [
        "print (\"Minimum length of the questions in question1 : \" , min(df['Q1_Words']))\n",
        "print (\"Minimum length of the questions in question2 : \" , min(df['Q2_Words']))\n",
        "\n",
        "print (\"Number of Questions with minimum length [question1] :\", df[df['Q1_Words']== 1].shape[0])\n",
        "print (\"Number of Questions with minimum length [question2] :\", df[df['Q2_Words']== 1].shape[0])\n",
        "\n",
        "print (\"Maximum length of the questions in question1 : \" , max(df['Q1_Words']))\n",
        "print (\"Maximum length of the questions in question2 : \" , max(df['Q2_Words']))\n",
        "\n",
        "print (\"Number of Questions with minimum length [question1] :\", df[df['Q1_Words']>120].shape[0])\n",
        "print (\"Number of Questions with minimum length [question2] :\", df[df['Q2_Words']> 230].shape[0])\n",
        "\n",
        "print (\"Maximum number of Common word : \" , max(df['common_Word']))\n",
        "print (\"Maximum number of Shared Word : \" , max(df['Shared_Word']))"
      ]
    },
    {
      "cell_type": "markdown",
      "metadata": {
        "id": "M_8nLTBz7p7O"
      },
      "source": [
        "**[2]Text pre-processing**\n",
        "Creating our very own stopword list after removing some stop words like how,whom ,not , etc that may be useful to differentiate between questions"
      ]
    },
    {
      "cell_type": "code",
      "execution_count": null,
      "metadata": {
        "id": "IidlwXqi7sz6"
      },
      "outputs": [],
      "source": [
        "from nltk.stem import SnowballStemmer\n",
        "snow=nltk.stem.SnowballStemmer('english')\n",
        "\n",
        "# Creating custom stopwords\n",
        "\n",
        "stopwords= set(['the', 'i', 'me', 'my', 'myself', 'we', 'our', 'ours', 'ourselves', 'you', \"you're\", \"you've\",\\\n",
        "            \"you'll\", \"you'd\", 'your', 'yours', 'yourself', 'yourselves', 'he', 'him', 'his', 'himself', \\\n",
        "            'she', \"she's\", 'her', 'hers', 'herself', 'it', \"it's\", 'its', 'itself', 'they', 'them', 'their',\\\n",
        "            'theirs', 'themselves', 'this', 'that', \"that'll\", 'these', 'those', \\\n",
        "            'am', 'is', 'are', 'was', 'were', 'be', 'been', 'being', 'have', 'has', 'had', 'having', 'do', 'does', \\\n",
        "            'did', 'doing', 'a', 'an', 'the', 'and', 'but', 'if', 'or', 'because', 'as', 'until', 'while', 'of', \\\n",
        "            'at', 'by', 'for', 'with', 'about', 'against', 'between', 'into', 'through', 'during', 'before', 'after',\\\n",
        "            'above', 'below', 'to', 'from', 'up', 'down', 'in', 'out', 'on', 'off', 'over', 'under', 'again', 'further',\\\n",
        "            'then', 'once', 'here', 'there', 'all', 'any', 'both', 'each', 'few', 'more',\\\n",
        "            'most', 'other', 'some', 'such', 'only', 'own', 'same', 'so', 'than', 'too', 'very', \\\n",
        "            's', 't', 'can', 'will', 'just', 'don', \"don't\", 'should', \"should've\", 'now', 'd', 'll', 'm', 'o', 're', \\\n",
        "            've', 'y', 'ain', 'aren', \"aren't\", 'couldn', \"couldn't\", 'didn', \"didn't\", 'doesn', \"doesn't\", 'hadn',\\\n",
        "            \"hadn't\", 'hasn', \"hasn't\", 'haven', \"haven't\", 'isn', \"isn't\", 'ma', 'mightn', \"mightn't\", 'mustn',\\\n",
        "            \"mustn't\", 'needn', \"needn't\", 'shan', \"shan't\", 'shouldn', \"shouldn't\", 'wasn', \"wasn't\", 'weren', \"weren't\", \\\n",
        "            'won', \"won't\", 'wouldn', \"wouldn't\"])"
      ]
    },
    {
      "cell_type": "markdown",
      "metadata": {
        "id": "1q-1snib7zKR"
      },
      "source": [
        "Simple fuction to perform stemming while removing StopWords"
      ]
    },
    {
      "cell_type": "code",
      "execution_count": null,
      "metadata": {
        "id": "v5aINO3k7wu5"
      },
      "outputs": [],
      "source": [
        "def removeStopWord(word):\n",
        "  token=word.split(\" \")   ## coverting string to token (list of word) \\\\ like [\"this\",\"is\",\"token\"]\n",
        "  removestop=[snow.stem(x) for x in token if x not in stopwords]   ##removing stopwords and also doing Stemming\n",
        "  removed=\" \".join(removestop)  ##joing back the list into sentence\n",
        "  return removed"
      ]
    },
    {
      "cell_type": "markdown",
      "metadata": {
        "id": "3JmbIrO2772i"
      },
      "source": [
        "Replacing common words like 1000 to 1k or 1m and many other and removing special characters"
      ]
    },
    {
      "cell_type": "code",
      "execution_count": null,
      "metadata": {
        "id": "0rpQyqwM73ZJ"
      },
      "outputs": [],
      "source": [
        "def preprocess(x):\n",
        "    x = str(x).lower()  # Lowering all text to covert all of them to there base form\n",
        "\n",
        "    # Replacing commonly use words or numbers like 1,000 to 1k and 1,000,000 to 1m and currency symbol to there respective names and many other symbols to there name\n",
        "\n",
        "    x = x.replace(\",000,000\", \"m\").replace(\",000\", \"k\").replace(\"′\", \"'\").replace(\"’\", \"'\")\\\n",
        "                           .replace(\"won't\", \"will not\").replace(\"cannot\", \"can not\").replace(\"can't\", \"can not\")\\\n",
        "                           .replace(\"n't\", \" not\").replace(\"what's\", \"what is\").replace(\"it's\", \"it is\")\\\n",
        "                           .replace(\"'ve\", \" have\").replace(\"i'm\", \"i am\").replace(\"'re\", \" are\")\\\n",
        "                           .replace(\"he's\", \"he is\").replace(\"she's\", \"she is\").replace(\"'s\", \" is\")\\\n",
        "                           .replace(\"%\", \" percent \").replace(\"₹\", \" rupee \").replace(\"$\", \" dollar \")\\\n",
        "                           .replace(\"€\", \" euro \").replace(\"'ll\", \" will\").replace(\"@\",\"at\")\n",
        "\n",
        "    # Renaming 1000 to 1k and 1000000 to 1m (the onces which may not be seperated with commans)\n",
        "    x = re.sub(r\"([0-9]+)000000\", r\"\\1m\", x)\n",
        "    x = re.sub(r\"([0-9]+)000\", r\"\\1k\", x)\n",
        "\n",
        "\n",
        "    #Remove any special character like [= , ' ; \"\" ']\n",
        "\n",
        "    pattern = re.compile('\\W')\n",
        "\n",
        "    if type(x) == type(''):\n",
        "        x = re.sub(pattern, ' ', x)\n",
        "\n",
        "    #Removing Stopwords And Doing Stemming\n",
        "    x=removeStopWord(x)\n",
        "\n",
        "    return x"
      ]
    },
    {
      "cell_type": "markdown",
      "metadata": {
        "id": "1mh6Lqcu8Chi"
      },
      "source": [
        "Pre-processing our Questions data (Removing Stop Words, Doing Stemming and more)"
      ]
    },
    {
      "cell_type": "code",
      "execution_count": null,
      "metadata": {
        "id": "s1NCWVpF7_uy"
      },
      "outputs": [],
      "source": [
        "df['cleanQ1']=df['question1'].apply(preprocess)\n",
        "df['cleanQ2']=df['question2'].apply(preprocess)"
      ]
    },
    {
      "cell_type": "markdown",
      "metadata": {
        "id": "zdn5ETIC8gbx"
      },
      "source": [
        "Lets look how pre-processing changed the question text\n",
        "\n",
        "\n"
      ]
    },
    {
      "cell_type": "code",
      "execution_count": null,
      "metadata": {
        "colab": {
          "base_uri": "https://localhost:8080/"
        },
        "id": "I3HpwRX88eE5",
        "outputId": "161e902f-80fb-407b-b097-d3d858e152f6"
      },
      "outputs": [
        {
          "output_type": "stream",
          "name": "stdout",
          "text": [
            "Questions 1 without pre-processing\n",
            "How can I increase the speed of my internet connection while using a VPN?\n",
            "\n",
            "Questions 1 after pre-processing\n",
            "how increas speed internet connect use vpn \n",
            "\n",
            "Questions 2 without pre-processing\n",
            "How can Internet speed be increased by hacking through DNS?\n",
            "\n",
            "Questions 2 after pre-processing\n",
            "how internet speed increas hack dns \n"
          ]
        }
      ],
      "source": [
        "print('Questions 1 without pre-processing')\n",
        "print(df['question1'][2])\n",
        "print()\n",
        "print('Questions 1 after pre-processing')\n",
        "print(df['cleanQ1'][2])\n",
        "print()\n",
        "print('Questions 2 without pre-processing')\n",
        "print(df['question2'][2])\n",
        "print()\n",
        "print('Questions 2 after pre-processing')\n",
        "print(df['cleanQ2'][2])"
      ]
    },
    {
      "cell_type": "markdown",
      "metadata": {
        "id": "7sOvhBeW9hEq"
      },
      "source": [
        "**Advance Feature Engineering Using NLP and Fuzzy Features**\n",
        "\n",
        "Simple Ratio : Measurement of edit distance (Minimum number of edits required to convert one sentence to other )\n",
        "\n",
        "Partial Ratio : How much accuratly a part of sentence match to other sentence (\"Chennai Super Kings\", \"Super Kings\")\n",
        "\n",
        "Token Sort Ratio : Tokenizing the string in question, sorting the tokens alphabetically, and then joining them back into a string\n",
        "\n",
        "Token Set Ratio : Tokenize both strings,split the tokens into two groups of intersection and remainder. We use those sets to build up a comparison string.\n",
        "\n",
        "Last_Word : Checks if last word is same in both Q1 and Q2\n",
        "\n",
        "First_Word : Checks if First word is same in both Q1 and Q2\n",
        "\n",
        "Length_diff : Finds the length diffrence between Q1 and Q2\n",
        "\n",
        "StopWord_Ratio : Number of stopwords in both Questions\n",
        "\n",
        "Token_Ratio : Number of tokens in both Questions\n",
        "\n",
        "Longest_Substr_ratio : Ratio of the Longest Substring that is found in between Q1 and Q2"
      ]
    },
    {
      "cell_type": "code",
      "execution_count": null,
      "metadata": {
        "colab": {
          "base_uri": "https://localhost:8080/"
        },
        "id": "z-c6Uv5r-GSJ",
        "outputId": "8e5f5292-ed88-49f3-df89-ad731b873f8c"
      },
      "outputs": [
        {
          "name": "stdout",
          "output_type": "stream",
          "text": [
            "Looking in indexes: https://pypi.org/simple, https://us-python.pkg.dev/colab-wheels/public/simple/\n",
            "Collecting fuzzywuzzy\n",
            "  Downloading fuzzywuzzy-0.18.0-py2.py3-none-any.whl (18 kB)\n",
            "Installing collected packages: fuzzywuzzy\n",
            "Successfully installed fuzzywuzzy-0.18.0\n",
            "Looking in indexes: https://pypi.org/simple, https://us-python.pkg.dev/colab-wheels/public/simple/\n",
            "Collecting python-Levenshtein\n",
            "  Downloading python_Levenshtein-0.20.9-py3-none-any.whl (9.4 kB)\n",
            "Collecting Levenshtein==0.20.9\n",
            "  Downloading Levenshtein-0.20.9-cp38-cp38-manylinux_2_17_x86_64.manylinux2014_x86_64.whl (174 kB)\n",
            "\u001b[2K     \u001b[90m━━━━━━━━━━━━━━━━━━━━━━━━━━━━━━━━━━━━━━━\u001b[0m \u001b[32m174.0/174.0 KB\u001b[0m \u001b[31m8.0 MB/s\u001b[0m eta \u001b[36m0:00:00\u001b[0m\n",
            "\u001b[?25hCollecting rapidfuzz<3.0.0,>=2.3.0\n",
            "  Downloading rapidfuzz-2.13.7-cp38-cp38-manylinux_2_17_x86_64.manylinux2014_x86_64.whl (2.2 MB)\n",
            "\u001b[2K     \u001b[90m━━━━━━━━━━━━━━━━━━━━━━━━━━━━━━━━━━━━━━━━\u001b[0m \u001b[32m2.2/2.2 MB\u001b[0m \u001b[31m57.2 MB/s\u001b[0m eta \u001b[36m0:00:00\u001b[0m\n",
            "\u001b[?25hInstalling collected packages: rapidfuzz, Levenshtein, python-Levenshtein\n",
            "Successfully installed Levenshtein-0.20.9 python-Levenshtein-0.20.9 rapidfuzz-2.13.7\n"
          ]
        }
      ],
      "source": [
        "!pip3 install fuzzywuzzy\n",
        "!pip install python-Levenshtein"
      ]
    },
    {
      "cell_type": "code",
      "execution_count": null,
      "metadata": {
        "id": "DuN7hzB7AIKo"
      },
      "outputs": [],
      "source": [
        "from fuzzywuzzy import fuzz\n",
        "from fuzzywuzzy import process\n",
        "\n",
        "df['Simple_Ratio']=df.apply(lambda x: fuzz.ratio(x['cleanQ1'],x['cleanQ2']) ,axis=1)\n",
        "\n",
        "df['Partial_Ratio']=df.apply(lambda x: fuzz.partial_ratio(x['cleanQ1'],x['cleanQ2']) ,axis=1)\n",
        "\n",
        "df['Token_Sort_Ratio']=df.apply(lambda x: fuzz.token_sort_ratio(x['cleanQ1'],x['cleanQ2']) ,axis=1)\n",
        "\n",
        "df['Token_Set_Ratio']=df.apply(lambda x: fuzz.token_set_ratio(x['cleanQ1'],x['cleanQ2']) ,axis=1)"
      ]
    },
    {
      "cell_type": "code",
      "execution_count": null,
      "metadata": {
        "id": "WyLF2fUE-xGC"
      },
      "outputs": [],
      "source": [
        "df['Last_Word']=df.apply(lambda x: int(x['question1'].split()[-1] == x['question2'].split()[-1]),axis=1)\n",
        "\n",
        "\n",
        "df['First_Word']=df.apply(lambda x: int(x['question1'].split()[0] == x['question2'].split()[0]),axis=1)\n",
        "\n",
        "\n",
        "df['Length_diff']=df.apply(lambda x: abs(len(x['question1'].split())-len(x['question2'].split())),axis=1)"
      ]
    },
    {
      "cell_type": "code",
      "execution_count": null,
      "metadata": {
        "id": "IZ0PtUoHAD7P"
      },
      "outputs": [],
      "source": [
        "def common_StopWord_Ratio(q1,q2):\n",
        "    q1_token=q1.split() # Splitting Words to make then tokens\n",
        "    q2_token=q2.split()\n",
        "\n",
        "    # We are takking out all the stopwords in both the Question and finding there intersection (Common stopwords)\n",
        "    q1=set([word for word in q1_token if word in stopwords])\n",
        "    q2=set([word for word in q2_token if word in stopwords])\n",
        "    common=q1.intersection(q2)\n",
        "    ratio=len(common)/len(set(q1_token))+len(set(q2_token))\n",
        "\n",
        "    return ratio\n",
        "\n",
        "def common_Token_Ratio(q1,q2):\n",
        "    q1_token=q1.split()\n",
        "    q2_token=q2.split()\n",
        "    # We are takking out all the token in both the Question and finding there intersection (Common tokens)\n",
        "    q1=set([x for x in q1_token if x not in stopwords])\n",
        "    q2=set([x for x in q2_token if x not in stopwords])\n",
        "\n",
        "    common=q1.intersection(q2)\n",
        "    ratio=len(common)/len(set(q1_token))+len(set(q2_token))\n",
        "\n",
        "    return ratio\n",
        "def get_longest_substr_ratio(a, b):\n",
        "\n",
        "    strs = list(distance.lcsubstrings(a, b))\n",
        "    if len(strs) == 0:\n",
        "        return 0\n",
        "    else:\n",
        "        return round(len(strs[0]) / (min(len(a), len(b)) + 1),5)\n",
        "\n",
        "def common_Characters(q1,q2):\n",
        "    q1=\"\".join(q1.split())\n",
        "    q2=\"\".join(q2.split())\n",
        "    c=0\n",
        "    d=dict(Counter(q1))\n",
        "    for i in q2:\n",
        "        if i in d and d[i]!=0:\n",
        "            c+=1;d[i]-=1\n",
        "    return c"
      ]
    },
    {
      "cell_type": "code",
      "execution_count": null,
      "metadata": {
        "id": "WTDxwpFpCbJD"
      },
      "outputs": [],
      "source": [
        "df['StopWord_Ratio']=df.apply(lambda x: common_StopWord_Ratio(x[\"question1\"], x[\"question2\"]), axis=1)\n",
        "\n",
        "\n",
        "df['Token_Ratio']=df.apply(lambda x: common_Token_Ratio(x[\"question1\"], x[\"question2\"]), axis=1)\n",
        "\n",
        "\n",
        "df['Longest_Substr_ratio']=df.apply(lambda x: get_longest_substr_ratio(x[\"question1\"], x[\"question2\"]), axis=1)\n",
        "\n",
        "\n",
        "# df['Common_Characters']=df.apply(lambda x: common_Characters(x[\"question1\"], x[\"question2\"]), axis=1)"
      ]
    },
    {
      "cell_type": "code",
      "execution_count": null,
      "metadata": {
        "colab": {
          "base_uri": "https://localhost:8080/",
          "height": 716
        },
        "id": "ubI3ebOFCk5t",
        "outputId": "67208d97-a0cc-4326-f9c9-7c7e46a4763c"
      },
      "outputs": [
        {
          "data": {
            "text/html": [
              "\n",
              "  <div id=\"df-21a77b30-4b7b-44ea-8778-8fef41b22f74\">\n",
              "    <div class=\"colab-df-container\">\n",
              "      <div>\n",
              "<style scoped>\n",
              "    .dataframe tbody tr th:only-of-type {\n",
              "        vertical-align: middle;\n",
              "    }\n",
              "\n",
              "    .dataframe tbody tr th {\n",
              "        vertical-align: top;\n",
              "    }\n",
              "\n",
              "    .dataframe thead th {\n",
              "        text-align: right;\n",
              "    }\n",
              "</style>\n",
              "<table border=\"1\" class=\"dataframe\">\n",
              "  <thead>\n",
              "    <tr style=\"text-align: right;\">\n",
              "      <th></th>\n",
              "      <th>id</th>\n",
              "      <th>qid1</th>\n",
              "      <th>qid2</th>\n",
              "      <th>question1</th>\n",
              "      <th>question2</th>\n",
              "      <th>is_duplicate</th>\n",
              "      <th>Q1_Len</th>\n",
              "      <th>Q2_Len</th>\n",
              "      <th>Q1_Words</th>\n",
              "      <th>Q2_Words</th>\n",
              "      <th>...</th>\n",
              "      <th>Simple_Ratio</th>\n",
              "      <th>Partial_Ratio</th>\n",
              "      <th>Token_Sort_Ratio</th>\n",
              "      <th>Token_Set_Ratio</th>\n",
              "      <th>Last_Word</th>\n",
              "      <th>First_Word</th>\n",
              "      <th>Length_diff</th>\n",
              "      <th>StopWord_Ratio</th>\n",
              "      <th>Token_Ratio</th>\n",
              "      <th>Longest_Substr_ratio</th>\n",
              "    </tr>\n",
              "  </thead>\n",
              "  <tbody>\n",
              "    <tr>\n",
              "      <th>0</th>\n",
              "      <td>0</td>\n",
              "      <td>1</td>\n",
              "      <td>2</td>\n",
              "      <td>What is the step by step guide to invest in sh...</td>\n",
              "      <td>What is the step by step guide to invest in sh...</td>\n",
              "      <td>0</td>\n",
              "      <td>66</td>\n",
              "      <td>57</td>\n",
              "      <td>14</td>\n",
              "      <td>12</td>\n",
              "      <td>...</td>\n",
              "      <td>93</td>\n",
              "      <td>100</td>\n",
              "      <td>93</td>\n",
              "      <td>100</td>\n",
              "      <td>0</td>\n",
              "      <td>1</td>\n",
              "      <td>2</td>\n",
              "      <td>11.416667</td>\n",
              "      <td>11.416667</td>\n",
              "      <td>0.96552</td>\n",
              "    </tr>\n",
              "    <tr>\n",
              "      <th>1</th>\n",
              "      <td>1</td>\n",
              "      <td>3</td>\n",
              "      <td>4</td>\n",
              "      <td>What is the story of Kohinoor (Koh-i-Noor) Dia...</td>\n",
              "      <td>What would happen if the Indian government sto...</td>\n",
              "      <td>0</td>\n",
              "      <td>51</td>\n",
              "      <td>88</td>\n",
              "      <td>8</td>\n",
              "      <td>13</td>\n",
              "      <td>...</td>\n",
              "      <td>67</td>\n",
              "      <td>85</td>\n",
              "      <td>65</td>\n",
              "      <td>91</td>\n",
              "      <td>0</td>\n",
              "      <td>1</td>\n",
              "      <td>5</td>\n",
              "      <td>12.125000</td>\n",
              "      <td>12.375000</td>\n",
              "      <td>0.44231</td>\n",
              "    </tr>\n",
              "    <tr>\n",
              "      <th>2</th>\n",
              "      <td>2</td>\n",
              "      <td>5</td>\n",
              "      <td>6</td>\n",
              "      <td>How can I increase the speed of my internet co...</td>\n",
              "      <td>How can Internet speed be increased by hacking...</td>\n",
              "      <td>0</td>\n",
              "      <td>73</td>\n",
              "      <td>59</td>\n",
              "      <td>14</td>\n",
              "      <td>10</td>\n",
              "      <td>...</td>\n",
              "      <td>61</td>\n",
              "      <td>64</td>\n",
              "      <td>75</td>\n",
              "      <td>85</td>\n",
              "      <td>0</td>\n",
              "      <td>1</td>\n",
              "      <td>4</td>\n",
              "      <td>10.071429</td>\n",
              "      <td>10.142857</td>\n",
              "      <td>0.15000</td>\n",
              "    </tr>\n",
              "    <tr>\n",
              "      <th>3</th>\n",
              "      <td>3</td>\n",
              "      <td>7</td>\n",
              "      <td>8</td>\n",
              "      <td>Why am I mentally very lonely? How can I solve...</td>\n",
              "      <td>Find the remainder when [math]23^{24}[/math] i...</td>\n",
              "      <td>0</td>\n",
              "      <td>50</td>\n",
              "      <td>65</td>\n",
              "      <td>11</td>\n",
              "      <td>9</td>\n",
              "      <td>...</td>\n",
              "      <td>34</td>\n",
              "      <td>42</td>\n",
              "      <td>29</td>\n",
              "      <td>31</td>\n",
              "      <td>0</td>\n",
              "      <td>0</td>\n",
              "      <td>2</td>\n",
              "      <td>9.000000</td>\n",
              "      <td>9.000000</td>\n",
              "      <td>0.03922</td>\n",
              "    </tr>\n",
              "    <tr>\n",
              "      <th>4</th>\n",
              "      <td>4</td>\n",
              "      <td>9</td>\n",
              "      <td>10</td>\n",
              "      <td>Which one dissolve in water quikly sugar, salt...</td>\n",
              "      <td>Which fish would survive in salt water?</td>\n",
              "      <td>0</td>\n",
              "      <td>76</td>\n",
              "      <td>39</td>\n",
              "      <td>13</td>\n",
              "      <td>7</td>\n",
              "      <td>...</td>\n",
              "      <td>48</td>\n",
              "      <td>51</td>\n",
              "      <td>51</td>\n",
              "      <td>64</td>\n",
              "      <td>0</td>\n",
              "      <td>1</td>\n",
              "      <td>6</td>\n",
              "      <td>7.076923</td>\n",
              "      <td>7.076923</td>\n",
              "      <td>0.15000</td>\n",
              "    </tr>\n",
              "  </tbody>\n",
              "</table>\n",
              "<p>5 rows × 25 columns</p>\n",
              "</div>\n",
              "      <button class=\"colab-df-convert\" onclick=\"convertToInteractive('df-21a77b30-4b7b-44ea-8778-8fef41b22f74')\"\n",
              "              title=\"Convert this dataframe to an interactive table.\"\n",
              "              style=\"display:none;\">\n",
              "        \n",
              "  <svg xmlns=\"http://www.w3.org/2000/svg\" height=\"24px\"viewBox=\"0 0 24 24\"\n",
              "       width=\"24px\">\n",
              "    <path d=\"M0 0h24v24H0V0z\" fill=\"none\"/>\n",
              "    <path d=\"M18.56 5.44l.94 2.06.94-2.06 2.06-.94-2.06-.94-.94-2.06-.94 2.06-2.06.94zm-11 1L8.5 8.5l.94-2.06 2.06-.94-2.06-.94L8.5 2.5l-.94 2.06-2.06.94zm10 10l.94 2.06.94-2.06 2.06-.94-2.06-.94-.94-2.06-.94 2.06-2.06.94z\"/><path d=\"M17.41 7.96l-1.37-1.37c-.4-.4-.92-.59-1.43-.59-.52 0-1.04.2-1.43.59L10.3 9.45l-7.72 7.72c-.78.78-.78 2.05 0 2.83L4 21.41c.39.39.9.59 1.41.59.51 0 1.02-.2 1.41-.59l7.78-7.78 2.81-2.81c.8-.78.8-2.07 0-2.86zM5.41 20L4 18.59l7.72-7.72 1.47 1.35L5.41 20z\"/>\n",
              "  </svg>\n",
              "      </button>\n",
              "      \n",
              "  <style>\n",
              "    .colab-df-container {\n",
              "      display:flex;\n",
              "      flex-wrap:wrap;\n",
              "      gap: 12px;\n",
              "    }\n",
              "\n",
              "    .colab-df-convert {\n",
              "      background-color: #E8F0FE;\n",
              "      border: none;\n",
              "      border-radius: 50%;\n",
              "      cursor: pointer;\n",
              "      display: none;\n",
              "      fill: #1967D2;\n",
              "      height: 32px;\n",
              "      padding: 0 0 0 0;\n",
              "      width: 32px;\n",
              "    }\n",
              "\n",
              "    .colab-df-convert:hover {\n",
              "      background-color: #E2EBFA;\n",
              "      box-shadow: 0px 1px 2px rgba(60, 64, 67, 0.3), 0px 1px 3px 1px rgba(60, 64, 67, 0.15);\n",
              "      fill: #174EA6;\n",
              "    }\n",
              "\n",
              "    [theme=dark] .colab-df-convert {\n",
              "      background-color: #3B4455;\n",
              "      fill: #D2E3FC;\n",
              "    }\n",
              "\n",
              "    [theme=dark] .colab-df-convert:hover {\n",
              "      background-color: #434B5C;\n",
              "      box-shadow: 0px 1px 3px 1px rgba(0, 0, 0, 0.15);\n",
              "      filter: drop-shadow(0px 1px 2px rgba(0, 0, 0, 0.3));\n",
              "      fill: #FFFFFF;\n",
              "    }\n",
              "  </style>\n",
              "\n",
              "      <script>\n",
              "        const buttonEl =\n",
              "          document.querySelector('#df-21a77b30-4b7b-44ea-8778-8fef41b22f74 button.colab-df-convert');\n",
              "        buttonEl.style.display =\n",
              "          google.colab.kernel.accessAllowed ? 'block' : 'none';\n",
              "\n",
              "        async function convertToInteractive(key) {\n",
              "          const element = document.querySelector('#df-21a77b30-4b7b-44ea-8778-8fef41b22f74');\n",
              "          const dataTable =\n",
              "            await google.colab.kernel.invokeFunction('convertToInteractive',\n",
              "                                                     [key], {});\n",
              "          if (!dataTable) return;\n",
              "\n",
              "          const docLinkHtml = 'Like what you see? Visit the ' +\n",
              "            '<a target=\"_blank\" href=https://colab.research.google.com/notebooks/data_table.ipynb>data table notebook</a>'\n",
              "            + ' to learn more about interactive tables.';\n",
              "          element.innerHTML = '';\n",
              "          dataTable['output_type'] = 'display_data';\n",
              "          await google.colab.output.renderOutput(dataTable, element);\n",
              "          const docLink = document.createElement('div');\n",
              "          docLink.innerHTML = docLinkHtml;\n",
              "          element.appendChild(docLink);\n",
              "        }\n",
              "      </script>\n",
              "    </div>\n",
              "  </div>\n",
              "  "
            ],
            "text/plain": [
              "   id  qid1  qid2                                          question1  \\\n",
              "0   0     1     2  What is the step by step guide to invest in sh...   \n",
              "1   1     3     4  What is the story of Kohinoor (Koh-i-Noor) Dia...   \n",
              "2   2     5     6  How can I increase the speed of my internet co...   \n",
              "3   3     7     8  Why am I mentally very lonely? How can I solve...   \n",
              "4   4     9    10  Which one dissolve in water quikly sugar, salt...   \n",
              "\n",
              "                                           question2  is_duplicate  Q1_Len  \\\n",
              "0  What is the step by step guide to invest in sh...             0      66   \n",
              "1  What would happen if the Indian government sto...             0      51   \n",
              "2  How can Internet speed be increased by hacking...             0      73   \n",
              "3  Find the remainder when [math]23^{24}[/math] i...             0      50   \n",
              "4            Which fish would survive in salt water?             0      76   \n",
              "\n",
              "   Q2_Len  Q1_Words  Q2_Words  ...  Simple_Ratio  Partial_Ratio  \\\n",
              "0      57        14        12  ...            93            100   \n",
              "1      88         8        13  ...            67             85   \n",
              "2      59        14        10  ...            61             64   \n",
              "3      65        11         9  ...            34             42   \n",
              "4      39        13         7  ...            48             51   \n",
              "\n",
              "   Token_Sort_Ratio Token_Set_Ratio Last_Word  First_Word  Length_diff  \\\n",
              "0                93             100         0           1            2   \n",
              "1                65              91         0           1            5   \n",
              "2                75              85         0           1            4   \n",
              "3                29              31         0           0            2   \n",
              "4                51              64         0           1            6   \n",
              "\n",
              "   StopWord_Ratio  Token_Ratio  Longest_Substr_ratio  \n",
              "0       11.416667    11.416667               0.96552  \n",
              "1       12.125000    12.375000               0.44231  \n",
              "2       10.071429    10.142857               0.15000  \n",
              "3        9.000000     9.000000               0.03922  \n",
              "4        7.076923     7.076923               0.15000  \n",
              "\n",
              "[5 rows x 25 columns]"
            ]
          },
          "execution_count": 33,
          "metadata": {},
          "output_type": "execute_result"
        }
      ],
      "source": [
        "df.head()"
      ]
    },
    {
      "cell_type": "markdown",
      "metadata": {
        "id": "kiKLwBxDCpkE"
      },
      "source": [
        "Removing Uncleaned Questions"
      ]
    },
    {
      "cell_type": "code",
      "execution_count": null,
      "metadata": {
        "colab": {
          "base_uri": "https://localhost:8080/",
          "height": 300
        },
        "id": "8_xhhRRLCnKz",
        "outputId": "f94f6807-3565-4076-cdb5-147b6207f4b8"
      },
      "outputs": [
        {
          "data": {
            "text/html": [
              "\n",
              "  <div id=\"df-dc2566bf-5c7f-498c-9d98-1c42fe64348b\">\n",
              "    <div class=\"colab-df-container\">\n",
              "      <div>\n",
              "<style scoped>\n",
              "    .dataframe tbody tr th:only-of-type {\n",
              "        vertical-align: middle;\n",
              "    }\n",
              "\n",
              "    .dataframe tbody tr th {\n",
              "        vertical-align: top;\n",
              "    }\n",
              "\n",
              "    .dataframe thead th {\n",
              "        text-align: right;\n",
              "    }\n",
              "</style>\n",
              "<table border=\"1\" class=\"dataframe\">\n",
              "  <thead>\n",
              "    <tr style=\"text-align: right;\">\n",
              "      <th></th>\n",
              "      <th>id</th>\n",
              "      <th>qid1</th>\n",
              "      <th>qid2</th>\n",
              "      <th>is_duplicate</th>\n",
              "      <th>Q1_Len</th>\n",
              "      <th>Q2_Len</th>\n",
              "      <th>Q1_Words</th>\n",
              "      <th>Q2_Words</th>\n",
              "      <th>common_Word</th>\n",
              "      <th>word_Total</th>\n",
              "      <th>...</th>\n",
              "      <th>Simple_Ratio</th>\n",
              "      <th>Partial_Ratio</th>\n",
              "      <th>Token_Sort_Ratio</th>\n",
              "      <th>Token_Set_Ratio</th>\n",
              "      <th>Last_Word</th>\n",
              "      <th>First_Word</th>\n",
              "      <th>Length_diff</th>\n",
              "      <th>StopWord_Ratio</th>\n",
              "      <th>Token_Ratio</th>\n",
              "      <th>Longest_Substr_ratio</th>\n",
              "    </tr>\n",
              "  </thead>\n",
              "  <tbody>\n",
              "    <tr>\n",
              "      <th>0</th>\n",
              "      <td>0</td>\n",
              "      <td>1</td>\n",
              "      <td>2</td>\n",
              "      <td>0</td>\n",
              "      <td>66</td>\n",
              "      <td>57</td>\n",
              "      <td>14</td>\n",
              "      <td>12</td>\n",
              "      <td>10</td>\n",
              "      <td>23</td>\n",
              "      <td>...</td>\n",
              "      <td>93</td>\n",
              "      <td>100</td>\n",
              "      <td>93</td>\n",
              "      <td>100</td>\n",
              "      <td>0</td>\n",
              "      <td>1</td>\n",
              "      <td>2</td>\n",
              "      <td>11.416667</td>\n",
              "      <td>11.416667</td>\n",
              "      <td>0.96552</td>\n",
              "    </tr>\n",
              "    <tr>\n",
              "      <th>1</th>\n",
              "      <td>1</td>\n",
              "      <td>3</td>\n",
              "      <td>4</td>\n",
              "      <td>0</td>\n",
              "      <td>51</td>\n",
              "      <td>88</td>\n",
              "      <td>8</td>\n",
              "      <td>13</td>\n",
              "      <td>4</td>\n",
              "      <td>20</td>\n",
              "      <td>...</td>\n",
              "      <td>67</td>\n",
              "      <td>85</td>\n",
              "      <td>65</td>\n",
              "      <td>91</td>\n",
              "      <td>0</td>\n",
              "      <td>1</td>\n",
              "      <td>5</td>\n",
              "      <td>12.125000</td>\n",
              "      <td>12.375000</td>\n",
              "      <td>0.44231</td>\n",
              "    </tr>\n",
              "    <tr>\n",
              "      <th>2</th>\n",
              "      <td>2</td>\n",
              "      <td>5</td>\n",
              "      <td>6</td>\n",
              "      <td>0</td>\n",
              "      <td>73</td>\n",
              "      <td>59</td>\n",
              "      <td>14</td>\n",
              "      <td>10</td>\n",
              "      <td>4</td>\n",
              "      <td>24</td>\n",
              "      <td>...</td>\n",
              "      <td>61</td>\n",
              "      <td>64</td>\n",
              "      <td>75</td>\n",
              "      <td>85</td>\n",
              "      <td>0</td>\n",
              "      <td>1</td>\n",
              "      <td>4</td>\n",
              "      <td>10.071429</td>\n",
              "      <td>10.142857</td>\n",
              "      <td>0.15000</td>\n",
              "    </tr>\n",
              "    <tr>\n",
              "      <th>3</th>\n",
              "      <td>3</td>\n",
              "      <td>7</td>\n",
              "      <td>8</td>\n",
              "      <td>0</td>\n",
              "      <td>50</td>\n",
              "      <td>65</td>\n",
              "      <td>11</td>\n",
              "      <td>9</td>\n",
              "      <td>0</td>\n",
              "      <td>19</td>\n",
              "      <td>...</td>\n",
              "      <td>34</td>\n",
              "      <td>42</td>\n",
              "      <td>29</td>\n",
              "      <td>31</td>\n",
              "      <td>0</td>\n",
              "      <td>0</td>\n",
              "      <td>2</td>\n",
              "      <td>9.000000</td>\n",
              "      <td>9.000000</td>\n",
              "      <td>0.03922</td>\n",
              "    </tr>\n",
              "    <tr>\n",
              "      <th>4</th>\n",
              "      <td>4</td>\n",
              "      <td>9</td>\n",
              "      <td>10</td>\n",
              "      <td>0</td>\n",
              "      <td>76</td>\n",
              "      <td>39</td>\n",
              "      <td>13</td>\n",
              "      <td>7</td>\n",
              "      <td>2</td>\n",
              "      <td>20</td>\n",
              "      <td>...</td>\n",
              "      <td>48</td>\n",
              "      <td>51</td>\n",
              "      <td>51</td>\n",
              "      <td>64</td>\n",
              "      <td>0</td>\n",
              "      <td>1</td>\n",
              "      <td>6</td>\n",
              "      <td>7.076923</td>\n",
              "      <td>7.076923</td>\n",
              "      <td>0.15000</td>\n",
              "    </tr>\n",
              "  </tbody>\n",
              "</table>\n",
              "<p>5 rows × 23 columns</p>\n",
              "</div>\n",
              "      <button class=\"colab-df-convert\" onclick=\"convertToInteractive('df-dc2566bf-5c7f-498c-9d98-1c42fe64348b')\"\n",
              "              title=\"Convert this dataframe to an interactive table.\"\n",
              "              style=\"display:none;\">\n",
              "        \n",
              "  <svg xmlns=\"http://www.w3.org/2000/svg\" height=\"24px\"viewBox=\"0 0 24 24\"\n",
              "       width=\"24px\">\n",
              "    <path d=\"M0 0h24v24H0V0z\" fill=\"none\"/>\n",
              "    <path d=\"M18.56 5.44l.94 2.06.94-2.06 2.06-.94-2.06-.94-.94-2.06-.94 2.06-2.06.94zm-11 1L8.5 8.5l.94-2.06 2.06-.94-2.06-.94L8.5 2.5l-.94 2.06-2.06.94zm10 10l.94 2.06.94-2.06 2.06-.94-2.06-.94-.94-2.06-.94 2.06-2.06.94z\"/><path d=\"M17.41 7.96l-1.37-1.37c-.4-.4-.92-.59-1.43-.59-.52 0-1.04.2-1.43.59L10.3 9.45l-7.72 7.72c-.78.78-.78 2.05 0 2.83L4 21.41c.39.39.9.59 1.41.59.51 0 1.02-.2 1.41-.59l7.78-7.78 2.81-2.81c.8-.78.8-2.07 0-2.86zM5.41 20L4 18.59l7.72-7.72 1.47 1.35L5.41 20z\"/>\n",
              "  </svg>\n",
              "      </button>\n",
              "      \n",
              "  <style>\n",
              "    .colab-df-container {\n",
              "      display:flex;\n",
              "      flex-wrap:wrap;\n",
              "      gap: 12px;\n",
              "    }\n",
              "\n",
              "    .colab-df-convert {\n",
              "      background-color: #E8F0FE;\n",
              "      border: none;\n",
              "      border-radius: 50%;\n",
              "      cursor: pointer;\n",
              "      display: none;\n",
              "      fill: #1967D2;\n",
              "      height: 32px;\n",
              "      padding: 0 0 0 0;\n",
              "      width: 32px;\n",
              "    }\n",
              "\n",
              "    .colab-df-convert:hover {\n",
              "      background-color: #E2EBFA;\n",
              "      box-shadow: 0px 1px 2px rgba(60, 64, 67, 0.3), 0px 1px 3px 1px rgba(60, 64, 67, 0.15);\n",
              "      fill: #174EA6;\n",
              "    }\n",
              "\n",
              "    [theme=dark] .colab-df-convert {\n",
              "      background-color: #3B4455;\n",
              "      fill: #D2E3FC;\n",
              "    }\n",
              "\n",
              "    [theme=dark] .colab-df-convert:hover {\n",
              "      background-color: #434B5C;\n",
              "      box-shadow: 0px 1px 3px 1px rgba(0, 0, 0, 0.15);\n",
              "      filter: drop-shadow(0px 1px 2px rgba(0, 0, 0, 0.3));\n",
              "      fill: #FFFFFF;\n",
              "    }\n",
              "  </style>\n",
              "\n",
              "      <script>\n",
              "        const buttonEl =\n",
              "          document.querySelector('#df-dc2566bf-5c7f-498c-9d98-1c42fe64348b button.colab-df-convert');\n",
              "        buttonEl.style.display =\n",
              "          google.colab.kernel.accessAllowed ? 'block' : 'none';\n",
              "\n",
              "        async function convertToInteractive(key) {\n",
              "          const element = document.querySelector('#df-dc2566bf-5c7f-498c-9d98-1c42fe64348b');\n",
              "          const dataTable =\n",
              "            await google.colab.kernel.invokeFunction('convertToInteractive',\n",
              "                                                     [key], {});\n",
              "          if (!dataTable) return;\n",
              "\n",
              "          const docLinkHtml = 'Like what you see? Visit the ' +\n",
              "            '<a target=\"_blank\" href=https://colab.research.google.com/notebooks/data_table.ipynb>data table notebook</a>'\n",
              "            + ' to learn more about interactive tables.';\n",
              "          element.innerHTML = '';\n",
              "          dataTable['output_type'] = 'display_data';\n",
              "          await google.colab.output.renderOutput(dataTable, element);\n",
              "          const docLink = document.createElement('div');\n",
              "          docLink.innerHTML = docLinkHtml;\n",
              "          element.appendChild(docLink);\n",
              "        }\n",
              "      </script>\n",
              "    </div>\n",
              "  </div>\n",
              "  "
            ],
            "text/plain": [
              "   id  qid1  qid2  is_duplicate  Q1_Len  Q2_Len  Q1_Words  Q2_Words  \\\n",
              "0   0     1     2             0      66      57        14        12   \n",
              "1   1     3     4             0      51      88         8        13   \n",
              "2   2     5     6             0      73      59        14        10   \n",
              "3   3     7     8             0      50      65        11         9   \n",
              "4   4     9    10             0      76      39        13         7   \n",
              "\n",
              "   common_Word  word_Total  ...  Simple_Ratio Partial_Ratio Token_Sort_Ratio  \\\n",
              "0           10          23  ...            93           100               93   \n",
              "1            4          20  ...            67            85               65   \n",
              "2            4          24  ...            61            64               75   \n",
              "3            0          19  ...            34            42               29   \n",
              "4            2          20  ...            48            51               51   \n",
              "\n",
              "   Token_Set_Ratio  Last_Word  First_Word  Length_diff  StopWord_Ratio  \\\n",
              "0              100          0           1            2       11.416667   \n",
              "1               91          0           1            5       12.125000   \n",
              "2               85          0           1            4       10.071429   \n",
              "3               31          0           0            2        9.000000   \n",
              "4               64          0           1            6        7.076923   \n",
              "\n",
              "   Token_Ratio  Longest_Substr_ratio  \n",
              "0    11.416667               0.96552  \n",
              "1    12.375000               0.44231  \n",
              "2    10.142857               0.15000  \n",
              "3     9.000000               0.03922  \n",
              "4     7.076923               0.15000  \n",
              "\n",
              "[5 rows x 23 columns]"
            ]
          },
          "execution_count": 34,
          "metadata": {},
          "output_type": "execute_result"
        }
      ],
      "source": [
        "# Deleting question1 from our data frame\n",
        "del df['question1']\n",
        "\n",
        "# Deleting question2 from our data frame\n",
        "del df['question2']\n",
        "\n",
        "# Printing dataset after deletion\n",
        "\n",
        "df.head()"
      ]
    },
    {
      "cell_type": "code",
      "execution_count": null,
      "metadata": {
        "id": "WTKMXwZaCsrz"
      },
      "outputs": [],
      "source": [
        "# saving our dataframe as csv\n",
        "df.to_csv('nlp_features_train.csv')"
      ]
    },
    {
      "cell_type": "markdown",
      "metadata": {
        "id": "fK_Ro2wGCzSa"
      },
      "source": [
        "Analysing our extracted features"
      ]
    },
    {
      "cell_type": "code",
      "execution_count": null,
      "metadata": {
        "colab": {
          "base_uri": "https://localhost:8080/"
        },
        "id": "j-uTWm5RCz5J",
        "outputId": "71ee3f65-2ab9-4839-bfc4-617a7dc89d0b"
      },
      "outputs": [
        {
          "name": "stdout",
          "output_type": "stream",
          "text": [
            "Number of data points in class 1 (duplicate pairs) : 298526\n",
            "Number of data points in class 0 (non duplicate pairs) : 510048\n"
          ]
        }
      ],
      "source": [
        "# Creating two dataframe of both duplicate and non duplicate and then extacting all the text and saving then in text file\n",
        "df_duplicate = df[df['is_duplicate'] == 1]\n",
        "dfp_nonduplicate = df[df['is_duplicate'] == 0]\n",
        "\n",
        "# Converting 2d array of q1 and q2 and flatten the array: like {{1,2},{3,4}} to {1,2,3,4}\n",
        "p = np.dstack([df_duplicate['cleanQ1'], df_duplicate['cleanQ2']]).flatten()\n",
        "n = np.dstack([dfp_nonduplicate[\"cleanQ1\"], dfp_nonduplicate[\"cleanQ2\"]]).flatten()\n",
        "\n",
        "print (\"Number of data points in class 1 (duplicate pairs) :\",len(p))\n",
        "print (\"Number of data points in class 0 (non duplicate pairs) :\",len(n))\n",
        "\n",
        "#Saving the np array into a text file\n",
        "np.savetxt('train_duplicate.txt', p, delimiter=' ', fmt='%s')\n",
        "np.savetxt('train_nonduplicate.txt', n, delimiter=' ', fmt='%s')"
      ]
    },
    {
      "cell_type": "code",
      "execution_count": null,
      "metadata": {
        "id": "JGnp6Me_C2ui"
      },
      "outputs": [],
      "source": [
        "# reading the text files\n",
        "\n",
        "textDupli = open('train_duplicate.txt').read()\n",
        "textNon = open('train_nonduplicate.txt').read()"
      ]
    },
    {
      "cell_type": "markdown",
      "metadata": {
        "id": "P8jtESIKC8bM"
      },
      "source": [
        "WordCloud"
      ]
    },
    {
      "cell_type": "code",
      "execution_count": null,
      "metadata": {
        "id": "2QIevDGpC42D"
      },
      "outputs": [],
      "source": [
        "stopwords = set(STOPWORDS)\n",
        "stopwords.add(\"said\")\n",
        "stopwords.add(\"br\")\n",
        "stopwords.add(\" \")\n",
        "stopwords.remove(\"not\")\n",
        "stopwords.remove(\"no\")\n",
        "stopwords.remove(\"like\")\n",
        ""
      ]
    },
    {
      "cell_type": "code",
      "execution_count": null,
      "metadata": {
        "colab": {
          "base_uri": "https://localhost:8080/",
          "height": 265
        },
        "id": "s2LaMm4JC_bL",
        "outputId": "7fb5718a-3df5-4e27-c7e1-1697bff8ffa9"
      },
      "outputs": [
        {
          "name": "stdout",
          "output_type": "stream",
          "text": [
            "Word Cloud for Duplicate Question pairs\n"
          ]
        },
        {
          "data": {
            "image/png": "[encoded data removed]",
            "text/plain": [
              "<Figure size 432x288 with 1 Axes>"
            ]
          },
          "metadata": {},
          "output_type": "display_data"
        }
      ],
      "source": [
        "wc = WordCloud(width = 3000,height = 2000, background_color=\"black\", max_words=50, stopwords=stopwords)\n",
        "wc.generate(textDupli)\n",
        "print (\"Word Cloud for Duplicate Question pairs\")\n",
        "plt.imshow(wc, interpolation='bilinear')\n",
        "plt.axis(\"off\")\n",
        "plt.show()"
      ]
    },
    {
      "cell_type": "code",
      "execution_count": null,
      "metadata": {
        "colab": {
          "base_uri": "https://localhost:8080/",
          "height": 265
        },
        "id": "uBaek3JCDBZ7",
        "outputId": "f8100e48-7ad4-499e-f344-67b612103187"
      },
      "outputs": [
        {
          "name": "stdout",
          "output_type": "stream",
          "text": [
            "Word Cloud for Duplicate Question pairs\n"
          ]
        },
        {
          "data": {
            "image/png": "[encoded data removed]",
            "text/plain": [
              "<Figure size 432x288 with 1 Axes>"
            ]
          },
          "metadata": {},
          "output_type": "display_data"
        }
      ],
      "source": [
        "# Word Clouds generated from non duplicate pair question's text\n",
        "wc = WordCloud(width = 3000,height = 2000, background_color=\"black\", max_words=50, stopwords=stopwords)\n",
        "wc.generate(textNon)\n",
        "print (\"Word Cloud for Duplicate Question pairs\")\n",
        "plt.imshow(wc, interpolation='bilinear')\n",
        "plt.axis(\"off\")\n",
        "plt.show()"
      ]
    },
    {
      "cell_type": "code",
      "execution_count": null,
      "metadata": {
        "colab": {
          "base_uri": "https://localhost:8080/"
        },
        "id": "KQPxxmVTDZqk",
        "outputId": "5302524f-ca51-49ff-904f-c308f7115af2"
      },
      "outputs": [
        {
          "data": {
            "text/plain": [
              "Index(['id', 'qid1', 'qid2', 'is_duplicate', 'Q1_Len', 'Q2_Len', 'Q1_Words',\n",
              "       'Q2_Words', 'common_Word', 'word_Total', 'Shared_Word', 'cleanQ1',\n",
              "       'cleanQ2', 'Simple_Ratio', 'Partial_Ratio', 'Token_Sort_Ratio',\n",
              "       'Token_Set_Ratio', 'Last_Word', 'First_Word', 'Length_diff',\n",
              "       'StopWord_Ratio', 'Token_Ratio', 'Longest_Substr_ratio'],\n",
              "      dtype='object')"
            ]
          },
          "execution_count": 46,
          "metadata": {},
          "output_type": "execute_result"
        }
      ],
      "source": [
        "df.columns"
      ]
    },
    {
      "cell_type": "code",
      "execution_count": null,
      "metadata": {
        "id": "kmjCE0ySDbss"
      },
      "outputs": [],
      "source": [
        "# Using TSNE for Dimentionality reduction for 15 Features(Generated after cleaning the data) to 3 dimention\n",
        "\n",
        "from sklearn.preprocessing import MinMaxScaler\n",
        "from sklearn.manifold import TSNE\n",
        "dfp_subsampled = df[0:5000]\n",
        "X = MinMaxScaler().fit_transform(dfp_subsampled[['Simple_Ratio', 'Partial_Ratio', 'Token_Sort_Ratio', 'Token_Set_Ratio','Q1_Len', 'Q2_Len', 'Q1_Words','Q2_Words', 'common_Word', 'word_Total', 'Shared_Word','Last_Word', 'First_Word', 'Length_diff','StopWord_Ratio', 'Token_Ratio', 'Longest_Substr_ratio' ]])\n",
        "y = dfp_subsampled['is_duplicate'].values"
      ]
    },
    {
      "cell_type": "code",
      "execution_count": null,
      "metadata": {
        "colab": {
          "base_uri": "https://localhost:8080/"
        },
        "id": "ff6iZ19vDgxF",
        "outputId": "1df8cf9a-5fe5-4e54-8b99-fcd5e2221c24"
      },
      "outputs": [
        {
          "name": "stderr",
          "output_type": "stream",
          "text": [
            "/usr/local/lib/python3.8/dist-packages/sklearn/manifold/_t_sne.py:790: FutureWarning:\n",
            "\n",
            "The default learning rate in TSNE will change from 200.0 to 'auto' in 1.2.\n",
            "\n"
          ]
        },
        {
          "name": "stdout",
          "output_type": "stream",
          "text": [
            "[t-SNE] Computing 91 nearest neighbors...\n",
            "[t-SNE] Indexed 5000 samples in 0.001s...\n",
            "[t-SNE] Computed neighbors for 5000 samples in 0.690s...\n",
            "[t-SNE] Computed conditional probabilities for sample 1000 / 5000\n",
            "[t-SNE] Computed conditional probabilities for sample 2000 / 5000\n",
            "[t-SNE] Computed conditional probabilities for sample 3000 / 5000\n",
            "[t-SNE] Computed conditional probabilities for sample 4000 / 5000\n",
            "[t-SNE] Computed conditional probabilities for sample 5000 / 5000\n",
            "[t-SNE] Mean sigma: 0.097165\n",
            "[t-SNE] Computed conditional probabilities in 0.215s\n",
            "[t-SNE] Iteration 50: error = 81.1619720, gradient norm = 0.0528282 (50 iterations in 2.703s)\n",
            "[t-SNE] Iteration 100: error = 71.7272339, gradient norm = 0.0103732 (50 iterations in 1.709s)\n",
            "[t-SNE] Iteration 150: error = 70.3985901, gradient norm = 0.0048301 (50 iterations in 1.554s)\n",
            "[t-SNE] Iteration 200: error = 69.8161697, gradient norm = 0.0039198 (50 iterations in 1.523s)\n",
            "[t-SNE] Iteration 250: error = 69.4255524, gradient norm = 0.0034035 (50 iterations in 1.526s)\n",
            "[t-SNE] KL divergence after 250 iterations with early exaggeration: 69.425552\n",
            "[t-SNE] Iteration 300: error = 1.9556983, gradient norm = 0.0011854 (50 iterations in 1.682s)\n",
            "[t-SNE] Iteration 350: error = 1.5838450, gradient norm = 0.0004768 (50 iterations in 1.708s)\n",
            "[t-SNE] Iteration 400: error = 1.4258201, gradient norm = 0.0002787 (50 iterations in 1.696s)\n",
            "[t-SNE] Iteration 450: error = 1.3399012, gradient norm = 0.0001881 (50 iterations in 1.711s)\n",
            "[t-SNE] Iteration 500: error = 1.2876880, gradient norm = 0.0001413 (50 iterations in 1.751s)\n",
            "[t-SNE] Iteration 550: error = 1.2540796, gradient norm = 0.0001178 (50 iterations in 1.693s)\n",
            "[t-SNE] Iteration 600: error = 1.2319067, gradient norm = 0.0001027 (50 iterations in 1.705s)\n",
            "[t-SNE] Iteration 650: error = 1.2165167, gradient norm = 0.0000929 (50 iterations in 1.735s)\n",
            "[t-SNE] Iteration 700: error = 1.2055452, gradient norm = 0.0000849 (50 iterations in 1.681s)\n",
            "[t-SNE] Iteration 750: error = 1.1976647, gradient norm = 0.0000821 (50 iterations in 1.723s)\n",
            "[t-SNE] Iteration 800: error = 1.1918138, gradient norm = 0.0000750 (50 iterations in 1.701s)\n",
            "[t-SNE] Iteration 850: error = 1.1871078, gradient norm = 0.0000767 (50 iterations in 1.687s)\n",
            "[t-SNE] Iteration 900: error = 1.1835272, gradient norm = 0.0000677 (50 iterations in 1.686s)\n",
            "[t-SNE] Iteration 950: error = 1.1802545, gradient norm = 0.0000655 (50 iterations in 1.717s)\n",
            "[t-SNE] Iteration 1000: error = 1.1771829, gradient norm = 0.0000617 (50 iterations in 1.698s)\n",
            "[t-SNE] KL divergence after 1000 iterations: 1.177183\n"
          ]
        }
      ],
      "source": [
        "tsne2d = TSNE(\n",
        "    n_components=2,\n",
        "    init='random', # pca\n",
        "    random_state=101,\n",
        "    method='barnes_hut',\n",
        "    n_iter=1000,\n",
        "    verbose=2,\n",
        "    angle=0.5\n",
        ").fit_transform(X)"
      ]
    },
    {
      "cell_type": "code",
      "execution_count": null,
      "metadata": {
        "colab": {
          "base_uri": "https://localhost:8080/",
          "height": 533
        },
        "id": "wf_ypTa5G0_F",
        "outputId": "5d29d5fe-f09e-42a6-9850-53b650082e56"
      },
      "outputs": [
        {
          "data": {
            "image/png": "[encoded data removed]",
            "text/plain": [
              "<Figure size 842.4x595.44 with 1 Axes>"
            ]
          },
          "metadata": {},
          "output_type": "display_data"
        }
      ],
      "source": [
        "sns.set(rc={'figure.figsize':(11.7,8.27)})\n",
        "\n",
        "df = pd.DataFrame({'x':tsne2d[:,0], 'y':tsne2d[:,1] ,'label':y})\n",
        "\n",
        "palette = sns.color_palette(\"bright\", 2)\n",
        "# draw the plot in appropriate place in the grid\n",
        "sns.scatterplot(data=df, x='x', y='y', hue='label',legend='full', palette=palette)\n",
        "plt.title(\"perplexity : {} and max_iter : {}\".format(30, 1000))\n",
        "plt.show()"
      ]
    },
    {
      "cell_type": "code",
      "execution_count": null,
      "metadata": {
        "colab": {
          "base_uri": "https://localhost:8080/"
        },
        "id": "ra1Yp2EhHAmt",
        "outputId": "69b410f3-00ee-42a2-a1d6-54939e1018b0"
      },
      "outputs": [
        {
          "name": "stderr",
          "output_type": "stream",
          "text": [
            "/usr/local/lib/python3.8/dist-packages/sklearn/manifold/_t_sne.py:790: FutureWarning:\n",
            "\n",
            "The default learning rate in TSNE will change from 200.0 to 'auto' in 1.2.\n",
            "\n"
          ]
        },
        {
          "name": "stdout",
          "output_type": "stream",
          "text": [
            "[t-SNE] Computing 91 nearest neighbors...\n",
            "[t-SNE] Indexed 5000 samples in 0.001s...\n",
            "[t-SNE] Computed neighbors for 5000 samples in 0.637s...\n",
            "[t-SNE] Computed conditional probabilities for sample 1000 / 5000\n",
            "[t-SNE] Computed conditional probabilities for sample 2000 / 5000\n",
            "[t-SNE] Computed conditional probabilities for sample 3000 / 5000\n",
            "[t-SNE] Computed conditional probabilities for sample 4000 / 5000\n",
            "[t-SNE] Computed conditional probabilities for sample 5000 / 5000\n",
            "[t-SNE] Mean sigma: 0.097165\n",
            "[t-SNE] Computed conditional probabilities in 0.182s\n",
            "[t-SNE] Iteration 50: error = 81.6769562, gradient norm = 0.0329560 (50 iterations in 7.766s)\n",
            "[t-SNE] Iteration 100: error = 71.0420532, gradient norm = 0.0031071 (50 iterations in 4.379s)\n",
            "[t-SNE] Iteration 150: error = 69.9241943, gradient norm = 0.0016551 (50 iterations in 4.134s)\n",
            "[t-SNE] Iteration 200: error = 69.4935226, gradient norm = 0.0010804 (50 iterations in 2.992s)\n",
            "[t-SNE] Iteration 250: error = 69.2412491, gradient norm = 0.0008767 (50 iterations in 3.058s)\n",
            "[t-SNE] KL divergence after 250 iterations with early exaggeration: 69.241249\n",
            "[t-SNE] Iteration 300: error = 1.7086873, gradient norm = 0.0008742 (50 iterations in 4.046s)\n",
            "[t-SNE] Iteration 350: error = 1.3678448, gradient norm = 0.0002435 (50 iterations in 5.054s)\n",
            "[t-SNE] Iteration 400: error = 1.2214522, gradient norm = 0.0001123 (50 iterations in 5.735s)\n",
            "[t-SNE] Iteration 450: error = 1.1488782, gradient norm = 0.0000981 (50 iterations in 9.128s)\n",
            "[t-SNE] Iteration 500: error = 1.1132138, gradient norm = 0.0000630 (50 iterations in 4.979s)\n",
            "[t-SNE] Iteration 550: error = 1.0932560, gradient norm = 0.0000561 (50 iterations in 4.969s)\n",
            "[t-SNE] Iteration 600: error = 1.0803941, gradient norm = 0.0000435 (50 iterations in 4.906s)\n",
            "[t-SNE] Iteration 650: error = 1.0697184, gradient norm = 0.0000388 (50 iterations in 5.006s)\n",
            "[t-SNE] Iteration 700: error = 1.0608594, gradient norm = 0.0000347 (50 iterations in 4.935s)\n",
            "[t-SNE] Iteration 750: error = 1.0538627, gradient norm = 0.0000335 (50 iterations in 4.955s)\n",
            "[t-SNE] Iteration 800: error = 1.0487025, gradient norm = 0.0000307 (50 iterations in 4.991s)\n",
            "[t-SNE] Iteration 850: error = 1.0444214, gradient norm = 0.0000266 (50 iterations in 5.087s)\n",
            "[t-SNE] Iteration 900: error = 1.0404238, gradient norm = 0.0000260 (50 iterations in 5.137s)\n",
            "[t-SNE] Iteration 950: error = 1.0371284, gradient norm = 0.0000271 (50 iterations in 5.211s)\n",
            "[t-SNE] Iteration 1000: error = 1.0340285, gradient norm = 0.0000241 (50 iterations in 5.183s)\n",
            "[t-SNE] KL divergence after 1000 iterations: 1.034029\n"
          ]
        }
      ],
      "source": [
        "tsne3d = TSNE(\n",
        "    n_components=3,\n",
        "    init='random', # pca\n",
        "    random_state=101,\n",
        "    method='barnes_hut',\n",
        "    n_iter=1000,\n",
        "    verbose=2,\n",
        "    angle=0.5\n",
        ").fit_transform(X)"
      ]
    },
    {
      "cell_type": "markdown",
      "metadata": {
        "id": "A8Zv42z4IKQd"
      },
      "source": [
        "**Featurizing text data**"
      ]
    },
    {
      "cell_type": "code",
      "execution_count": null,
      "metadata": {
        "id": "WYGg0O8tH7AF"
      },
      "outputs": [],
      "source": [
        "import spacy\n",
        "from sklearn.feature_extraction.text import TfidfVectorizer\n",
        "from sklearn.feature_extraction.text import CountVectorizer"
      ]
    },
    {
      "cell_type": "code",
      "execution_count": null,
      "metadata": {
        "colab": {
          "base_uri": "https://localhost:8080/",
          "height": 206
        },
        "id": "Jr1huDapIYjt",
        "outputId": "8ccda6c4-f73d-481b-84d1-f8253d52b80b"
      },
      "outputs": [
        {
          "data": {
            "text/html": [
              "\n",
              "  <div id=\"df-6c3cae78-7da9-40db-8217-089164472cce\">\n",
              "    <div class=\"colab-df-container\">\n",
              "      <div>\n",
              "<style scoped>\n",
              "    .dataframe tbody tr th:only-of-type {\n",
              "        vertical-align: middle;\n",
              "    }\n",
              "\n",
              "    .dataframe tbody tr th {\n",
              "        vertical-align: top;\n",
              "    }\n",
              "\n",
              "    .dataframe thead th {\n",
              "        text-align: right;\n",
              "    }\n",
              "</style>\n",
              "<table border=\"1\" class=\"dataframe\">\n",
              "  <thead>\n",
              "    <tr style=\"text-align: right;\">\n",
              "      <th></th>\n",
              "      <th>cleanQ1</th>\n",
              "      <th>cleanQ2</th>\n",
              "      <th>is_duplicate</th>\n",
              "    </tr>\n",
              "  </thead>\n",
              "  <tbody>\n",
              "    <tr>\n",
              "      <th>0</th>\n",
              "      <td>what step step guid invest share market india</td>\n",
              "      <td>what step step guid invest share market</td>\n",
              "      <td>0</td>\n",
              "    </tr>\n",
              "    <tr>\n",
              "      <th>1</th>\n",
              "      <td>what stori kohinoor  koh noor  diamond</td>\n",
              "      <td>what would happen indian govern stole kohinoor...</td>\n",
              "      <td>0</td>\n",
              "    </tr>\n",
              "    <tr>\n",
              "      <th>2</th>\n",
              "      <td>how increas speed internet connect use vpn</td>\n",
              "      <td>how internet speed increas hack dns</td>\n",
              "      <td>0</td>\n",
              "    </tr>\n",
              "    <tr>\n",
              "      <th>3</th>\n",
              "      <td>whi mental lone  how solv</td>\n",
              "      <td>find remaind when  math 23  24   math  divid 2...</td>\n",
              "      <td>0</td>\n",
              "    </tr>\n",
              "    <tr>\n",
              "      <th>4</th>\n",
              "      <td>which one dissolv water quik sugar  salt  meth...</td>\n",
              "      <td>which fish would surviv salt water</td>\n",
              "      <td>0</td>\n",
              "    </tr>\n",
              "  </tbody>\n",
              "</table>\n",
              "</div>\n",
              "      <button class=\"colab-df-convert\" onclick=\"convertToInteractive('df-6c3cae78-7da9-40db-8217-089164472cce')\"\n",
              "              title=\"Convert this dataframe to an interactive table.\"\n",
              "              style=\"display:none;\">\n",
              "        \n",
              "  <svg xmlns=\"http://www.w3.org/2000/svg\" height=\"24px\"viewBox=\"0 0 24 24\"\n",
              "       width=\"24px\">\n",
              "    <path d=\"M0 0h24v24H0V0z\" fill=\"none\"/>\n",
              "    <path d=\"M18.56 5.44l.94 2.06.94-2.06 2.06-.94-2.06-.94-.94-2.06-.94 2.06-2.06.94zm-11 1L8.5 8.5l.94-2.06 2.06-.94-2.06-.94L8.5 2.5l-.94 2.06-2.06.94zm10 10l.94 2.06.94-2.06 2.06-.94-2.06-.94-.94-2.06-.94 2.06-2.06.94z\"/><path d=\"M17.41 7.96l-1.37-1.37c-.4-.4-.92-.59-1.43-.59-.52 0-1.04.2-1.43.59L10.3 9.45l-7.72 7.72c-.78.78-.78 2.05 0 2.83L4 21.41c.39.39.9.59 1.41.59.51 0 1.02-.2 1.41-.59l7.78-7.78 2.81-2.81c.8-.78.8-2.07 0-2.86zM5.41 20L4 18.59l7.72-7.72 1.47 1.35L5.41 20z\"/>\n",
              "  </svg>\n",
              "      </button>\n",
              "      \n",
              "  <style>\n",
              "    .colab-df-container {\n",
              "      display:flex;\n",
              "      flex-wrap:wrap;\n",
              "      gap: 12px;\n",
              "    }\n",
              "\n",
              "    .colab-df-convert {\n",
              "      background-color: #E8F0FE;\n",
              "      border: none;\n",
              "      border-radius: 50%;\n",
              "      cursor: pointer;\n",
              "      display: none;\n",
              "      fill: #1967D2;\n",
              "      height: 32px;\n",
              "      padding: 0 0 0 0;\n",
              "      width: 32px;\n",
              "    }\n",
              "\n",
              "    .colab-df-convert:hover {\n",
              "      background-color: #E2EBFA;\n",
              "      box-shadow: 0px 1px 2px rgba(60, 64, 67, 0.3), 0px 1px 3px 1px rgba(60, 64, 67, 0.15);\n",
              "      fill: #174EA6;\n",
              "    }\n",
              "\n",
              "    [theme=dark] .colab-df-convert {\n",
              "      background-color: #3B4455;\n",
              "      fill: #D2E3FC;\n",
              "    }\n",
              "\n",
              "    [theme=dark] .colab-df-convert:hover {\n",
              "      background-color: #434B5C;\n",
              "      box-shadow: 0px 1px 3px 1px rgba(0, 0, 0, 0.15);\n",
              "      filter: drop-shadow(0px 1px 2px rgba(0, 0, 0, 0.3));\n",
              "      fill: #FFFFFF;\n",
              "    }\n",
              "  </style>\n",
              "\n",
              "      <script>\n",
              "        const buttonEl =\n",
              "          document.querySelector('#df-6c3cae78-7da9-40db-8217-089164472cce button.colab-df-convert');\n",
              "        buttonEl.style.display =\n",
              "          google.colab.kernel.accessAllowed ? 'block' : 'none';\n",
              "\n",
              "        async function convertToInteractive(key) {\n",
              "          const element = document.querySelector('#df-6c3cae78-7da9-40db-8217-089164472cce');\n",
              "          const dataTable =\n",
              "            await google.colab.kernel.invokeFunction('convertToInteractive',\n",
              "                                                     [key], {});\n",
              "          if (!dataTable) return;\n",
              "\n",
              "          const docLinkHtml = 'Like what you see? Visit the ' +\n",
              "            '<a target=\"_blank\" href=https://colab.research.google.com/notebooks/data_table.ipynb>data table notebook</a>'\n",
              "            + ' to learn more about interactive tables.';\n",
              "          element.innerHTML = '';\n",
              "          dataTable['output_type'] = 'display_data';\n",
              "          await google.colab.output.renderOutput(dataTable, element);\n",
              "          const docLink = document.createElement('div');\n",
              "          docLink.innerHTML = docLinkHtml;\n",
              "          element.appendChild(docLink);\n",
              "        }\n",
              "      </script>\n",
              "    </div>\n",
              "  </div>\n",
              "  "
            ],
            "text/plain": [
              "                                             cleanQ1  \\\n",
              "0     what step step guid invest share market india    \n",
              "1            what stori kohinoor  koh noor  diamond    \n",
              "2        how increas speed internet connect use vpn    \n",
              "3                         whi mental lone  how solv    \n",
              "4  which one dissolv water quik sugar  salt  meth...   \n",
              "\n",
              "                                             cleanQ2  is_duplicate  \n",
              "0           what step step guid invest share market              0  \n",
              "1  what would happen indian govern stole kohinoor...             0  \n",
              "2               how internet speed increas hack dns              0  \n",
              "3  find remaind when  math 23  24   math  divid 2...             0  \n",
              "4                which fish would surviv salt water              0  "
            ]
          },
          "execution_count": 54,
          "metadata": {},
          "output_type": "execute_result"
        }
      ],
      "source": [
        "df=pd.read_csv('/content/nlp_features_train.csv')\n",
        "df=df[['cleanQ1','cleanQ2','is_duplicate']]\n",
        "df['cleanQ1'] = df['cleanQ1'].apply(lambda x: str(x))\n",
        "df['cleanQ2'] = df['cleanQ2'].apply(lambda x: str(x))\n",
        "df.head()"
      ]
    },
    {
      "cell_type": "code",
      "execution_count": null,
      "metadata": {
        "colab": {
          "base_uri": "https://localhost:8080/"
        },
        "id": "IcUIYInlIjtl",
        "outputId": "0be2a72e-07f0-4e6b-a331-37993117aea6"
      },
      "outputs": [
        {
          "name": "stderr",
          "output_type": "stream",
          "text": [
            "/usr/local/lib/python3.8/dist-packages/sklearn/utils/deprecation.py:87: FutureWarning:\n",
            "\n",
            "Function get_feature_names is deprecated; get_feature_names is deprecated in 1.0 and will be removed in 1.2. Please use get_feature_names_out instead.\n",
            "\n"
          ]
        }
      ],
      "source": [
        "# merging questions of both Q1 and Q2 to a single list in which first 404287 index will be of question 1 and then rest of question 2\n",
        "questions = list(df['cleanQ1']) + list(df['cleanQ2'])  # len(questions): 808574  [404287 of q1 and 404287 of q2]\n",
        "\n",
        "tfidf = TfidfVectorizer() #  Convert a collection of raw documents to a matrix of TF-IDF features\n",
        "\n",
        "tfidf.fit_transform(questions)  # Converting out text to a matrix of TF-IDF features\n",
        "\n",
        "# mapping our feature_names with threre resptive tf-idf score  ( dict key:word and value:tf-idf score )\n",
        "word2tfidf = dict(zip(tfidf.get_feature_names(), tfidf.idf_))"
      ]
    },
    {
      "cell_type": "markdown",
      "metadata": {
        "id": "nj8G24keI85T"
      },
      "source": [
        "# After we find TF-IDF scores, we convert each question to a weighted average of word2vec vectors by these scores.\n",
        "here we use a pre-trained GLOVE model which comes free with \"Spacy\". https://spacy.io/usage/vectors-similarity\n",
        "It is trained on Wikipedia and therefore, it is stronger in terms of word semantics."
      ]
    },
    {
      "cell_type": "code",
      "execution_count": null,
      "metadata": {
        "colab": {
          "base_uri": "https://localhost:8080/"
        },
        "id": "t9y4ede2I4d0",
        "outputId": "5241046e-5f2a-4a1d-91b3-859eeb93367f"
      },
      "outputs": [
        {
          "name": "stderr",
          "output_type": "stream",
          "text": [
            "100%|██████████| 404287/404287 [41:44<00:00, 161.41it/s]\n"
          ]
        }
      ],
      "source": [
        "# en_vectors_web_lg, which includes over 1 million unique vectors.\n",
        "nlp = spacy.load('en_core_web_sm')\n",
        "\n",
        "vecs1 = []\n",
        "\n",
        "for qu1 in tqdm(list(df['cleanQ1'])):\n",
        "\n",
        "    doc1 = nlp(qu1) #creating object of   GLOVE model  so that we can get vetor representation of our words\n",
        "\n",
        "    # Creating a matrix of N x M where N is is number of word is given line and M i.e. 96 which is the vector representaion of 1st word\n",
        "    mean_vec1 = np.zeros([len(doc1), len(doc1[0].vector)])\n",
        "\n",
        "    # Looping to all words in the given sentence\n",
        "\n",
        "    for word1 in doc1:\n",
        "\n",
        "       # word2vec ( Creating Vector Representation of every word ) which is 96\n",
        "\n",
        "        vec1 = word1.vector\n",
        "\n",
        "        # Using try and catch to prefent key error [ For the words that are not there in our word2tfidf dict like empty space ]\n",
        "\n",
        "        try:\n",
        "            idf = word2tfidf[str(word1)]\n",
        "        except:\n",
        "            idf = 0\n",
        "\n",
        "        # adding up all the words generated in the matrix (word2vec matrix * the word2tfidf Corresponding to that word)\n",
        "        mean_vec1 += vec1 * idf\n",
        "    mean_vec1 = mean_vec1.mean(axis=0)\n",
        "    vecs1.append(mean_vec1)  # Storing the vector representation of every sentence into an array\n",
        "df['q1_feats_m'] = list(vecs1)"
      ]
    },
    {
      "cell_type": "code",
      "execution_count": null,
      "metadata": {
        "colab": {
          "base_uri": "https://localhost:8080/"
        },
        "id": "OzXALzvkJJhZ",
        "outputId": "b6541f91-1262-4d12-86ef-0f1159c0b1f6"
      },
      "outputs": [
        {
          "name": "stderr",
          "output_type": "stream",
          "text": [
            "100%|██████████| 404287/404287 [41:16<00:00, 163.22it/s]\n"
          ]
        }
      ],
      "source": [
        "# en_vectors_web_lg, which includes over 1 million unique vectors.\n",
        "nlp = spacy.load('en_core_web_sm')\n",
        "\n",
        "vecs2 = []\n",
        "\n",
        "for qu2 in tqdm(list(df['cleanQ2'])):\n",
        "\n",
        "    doc2 = nlp(qu2) #creating object of   GLOVE model  so that we can get vetor representation of our words\n",
        "\n",
        "    # Creating a matrix of N x M where N is is number of word is given line and M i.e. 96 which is the vector representaion of 1st word\n",
        "    mean_vec2 = np.zeros([len(doc2), len(doc2[0].vector)])\n",
        "\n",
        "    # Looping to all words in the given sentence\n",
        "\n",
        "    for word2 in doc2:\n",
        "\n",
        "       # word2vec ( Creating Vector Representation of every word ) which is 96\n",
        "\n",
        "        vec2 = word2.vector\n",
        "\n",
        "        # Using try and catch to prefent key error [ For the words that are not there in our word2tfidf dict like empty space ]\n",
        "\n",
        "        try:\n",
        "            idf = word2tfidf[str(word2)]\n",
        "        except:\n",
        "            idf = 0\n",
        "\n",
        "        # adding up all the words generated in the matrix (word2vec matrix * the word2tfidf Corresponding to that word)\n",
        "        mean_vec2 += vec2 * idf\n",
        "    mean_vec2 = mean_vec2.mean(axis=0)\n",
        "    vecs2.append(mean_vec2)  # Storing the vector representation of every sentence into an array\n",
        "df['q2_feats_m'] = list(vecs2)"
      ]
    },
    {
      "cell_type": "code",
      "execution_count": null,
      "metadata": {
        "colab": {
          "base_uri": "https://localhost:8080/"
        },
        "id": "J3DqRvsARvvO",
        "outputId": "064e04a6-fd4f-4c98-b063-d8e9c04ee896"
      },
      "outputs": [
        {
          "data": {
            "text/plain": [
              "Index(['Unnamed: 0', 'id', 'qid1', 'qid2', 'is_duplicate', 'Q1_Len', 'Q2_Len',\n",
              "       'Q1_Words', 'Q2_Words', 'common_Word', 'word_Total', 'Shared_Word',\n",
              "       'cleanQ1', 'cleanQ2', 'Simple_Ratio', 'Last_Word', 'First_Word',\n",
              "       'Length_diff', 'Partial_Ratio', 'Token_Sort_Ratio', 'Token_Set_Ratio',\n",
              "       'StopWord_Ratio', 'Token_Ratio', 'Longest_Substr_ratio'],\n",
              "      dtype='object')"
            ]
          },
          "execution_count": 58,
          "metadata": {},
          "output_type": "execute_result"
        }
      ],
      "source": [
        "df1=pd.read_csv('/content/drive/MyDrive/nlp_features_train.csv')\n",
        "df1.columns"
      ]
    },
    {
      "cell_type": "code",
      "execution_count": null,
      "metadata": {
        "colab": {
          "base_uri": "https://localhost:8080/",
          "height": 270
        },
        "id": "D0hPT4xZRzyY",
        "outputId": "541626e1-0961-41f3-c2c4-fd2d83c7646f"
      },
      "outputs": [
        {
          "data": {
            "text/html": [
              "\n",
              "  <div id=\"df-46bd5718-ba07-424c-93ca-c436f33b660e\">\n",
              "    <div class=\"colab-df-container\">\n",
              "      <div>\n",
              "<style scoped>\n",
              "    .dataframe tbody tr th:only-of-type {\n",
              "        vertical-align: middle;\n",
              "    }\n",
              "\n",
              "    .dataframe tbody tr th {\n",
              "        vertical-align: top;\n",
              "    }\n",
              "\n",
              "    .dataframe thead th {\n",
              "        text-align: right;\n",
              "    }\n",
              "</style>\n",
              "<table border=\"1\" class=\"dataframe\">\n",
              "  <thead>\n",
              "    <tr style=\"text-align: right;\">\n",
              "      <th></th>\n",
              "      <th>id</th>\n",
              "      <th>is_duplicate</th>\n",
              "      <th>Q1_Len</th>\n",
              "      <th>Q2_Len</th>\n",
              "      <th>Q1_Words</th>\n",
              "      <th>Q2_Words</th>\n",
              "      <th>common_Word</th>\n",
              "      <th>word_Total</th>\n",
              "      <th>Shared_Word</th>\n",
              "      <th>Simple_Ratio</th>\n",
              "      <th>Last_Word</th>\n",
              "      <th>First_Word</th>\n",
              "      <th>Length_diff</th>\n",
              "      <th>Partial_Ratio</th>\n",
              "      <th>Token_Sort_Ratio</th>\n",
              "      <th>Token_Set_Ratio</th>\n",
              "      <th>StopWord_Ratio</th>\n",
              "      <th>Token_Ratio</th>\n",
              "      <th>Longest_Substr_ratio</th>\n",
              "    </tr>\n",
              "  </thead>\n",
              "  <tbody>\n",
              "    <tr>\n",
              "      <th>0</th>\n",
              "      <td>0</td>\n",
              "      <td>0</td>\n",
              "      <td>66</td>\n",
              "      <td>57</td>\n",
              "      <td>14</td>\n",
              "      <td>12</td>\n",
              "      <td>10</td>\n",
              "      <td>23</td>\n",
              "      <td>0.434783</td>\n",
              "      <td>93</td>\n",
              "      <td>0</td>\n",
              "      <td>1</td>\n",
              "      <td>2</td>\n",
              "      <td>100</td>\n",
              "      <td>93</td>\n",
              "      <td>100</td>\n",
              "      <td>11.416667</td>\n",
              "      <td>11.416667</td>\n",
              "      <td>0.96552</td>\n",
              "    </tr>\n",
              "    <tr>\n",
              "      <th>1</th>\n",
              "      <td>1</td>\n",
              "      <td>0</td>\n",
              "      <td>51</td>\n",
              "      <td>88</td>\n",
              "      <td>8</td>\n",
              "      <td>13</td>\n",
              "      <td>4</td>\n",
              "      <td>20</td>\n",
              "      <td>0.200000</td>\n",
              "      <td>67</td>\n",
              "      <td>0</td>\n",
              "      <td>1</td>\n",
              "      <td>5</td>\n",
              "      <td>85</td>\n",
              "      <td>65</td>\n",
              "      <td>91</td>\n",
              "      <td>12.125000</td>\n",
              "      <td>12.375000</td>\n",
              "      <td>0.44231</td>\n",
              "    </tr>\n",
              "    <tr>\n",
              "      <th>2</th>\n",
              "      <td>2</td>\n",
              "      <td>0</td>\n",
              "      <td>73</td>\n",
              "      <td>59</td>\n",
              "      <td>14</td>\n",
              "      <td>10</td>\n",
              "      <td>4</td>\n",
              "      <td>24</td>\n",
              "      <td>0.166667</td>\n",
              "      <td>41</td>\n",
              "      <td>0</td>\n",
              "      <td>1</td>\n",
              "      <td>4</td>\n",
              "      <td>42</td>\n",
              "      <td>73</td>\n",
              "      <td>85</td>\n",
              "      <td>10.071429</td>\n",
              "      <td>10.142857</td>\n",
              "      <td>0.15000</td>\n",
              "    </tr>\n",
              "    <tr>\n",
              "      <th>3</th>\n",
              "      <td>3</td>\n",
              "      <td>0</td>\n",
              "      <td>50</td>\n",
              "      <td>65</td>\n",
              "      <td>11</td>\n",
              "      <td>9</td>\n",
              "      <td>0</td>\n",
              "      <td>19</td>\n",
              "      <td>0.000000</td>\n",
              "      <td>31</td>\n",
              "      <td>0</td>\n",
              "      <td>0</td>\n",
              "      <td>2</td>\n",
              "      <td>42</td>\n",
              "      <td>26</td>\n",
              "      <td>31</td>\n",
              "      <td>9.000000</td>\n",
              "      <td>9.000000</td>\n",
              "      <td>0.03922</td>\n",
              "    </tr>\n",
              "    <tr>\n",
              "      <th>4</th>\n",
              "      <td>4</td>\n",
              "      <td>0</td>\n",
              "      <td>76</td>\n",
              "      <td>39</td>\n",
              "      <td>13</td>\n",
              "      <td>7</td>\n",
              "      <td>2</td>\n",
              "      <td>20</td>\n",
              "      <td>0.100000</td>\n",
              "      <td>34</td>\n",
              "      <td>0</td>\n",
              "      <td>1</td>\n",
              "      <td>6</td>\n",
              "      <td>51</td>\n",
              "      <td>51</td>\n",
              "      <td>64</td>\n",
              "      <td>7.076923</td>\n",
              "      <td>7.076923</td>\n",
              "      <td>0.15000</td>\n",
              "    </tr>\n",
              "  </tbody>\n",
              "</table>\n",
              "</div>\n",
              "      <button class=\"colab-df-convert\" onclick=\"convertToInteractive('df-46bd5718-ba07-424c-93ca-c436f33b660e')\"\n",
              "              title=\"Convert this dataframe to an interactive table.\"\n",
              "              style=\"display:none;\">\n",
              "        \n",
              "  <svg xmlns=\"http://www.w3.org/2000/svg\" height=\"24px\"viewBox=\"0 0 24 24\"\n",
              "       width=\"24px\">\n",
              "    <path d=\"M0 0h24v24H0V0z\" fill=\"none\"/>\n",
              "    <path d=\"M18.56 5.44l.94 2.06.94-2.06 2.06-.94-2.06-.94-.94-2.06-.94 2.06-2.06.94zm-11 1L8.5 8.5l.94-2.06 2.06-.94-2.06-.94L8.5 2.5l-.94 2.06-2.06.94zm10 10l.94 2.06.94-2.06 2.06-.94-2.06-.94-.94-2.06-.94 2.06-2.06.94z\"/><path d=\"M17.41 7.96l-1.37-1.37c-.4-.4-.92-.59-1.43-.59-.52 0-1.04.2-1.43.59L10.3 9.45l-7.72 7.72c-.78.78-.78 2.05 0 2.83L4 21.41c.39.39.9.59 1.41.59.51 0 1.02-.2 1.41-.59l7.78-7.78 2.81-2.81c.8-.78.8-2.07 0-2.86zM5.41 20L4 18.59l7.72-7.72 1.47 1.35L5.41 20z\"/>\n",
              "  </svg>\n",
              "      </button>\n",
              "      \n",
              "  <style>\n",
              "    .colab-df-container {\n",
              "      display:flex;\n",
              "      flex-wrap:wrap;\n",
              "      gap: 12px;\n",
              "    }\n",
              "\n",
              "    .colab-df-convert {\n",
              "      background-color: #E8F0FE;\n",
              "      border: none;\n",
              "      border-radius: 50%;\n",
              "      cursor: pointer;\n",
              "      display: none;\n",
              "      fill: #1967D2;\n",
              "      height: 32px;\n",
              "      padding: 0 0 0 0;\n",
              "      width: 32px;\n",
              "    }\n",
              "\n",
              "    .colab-df-convert:hover {\n",
              "      background-color: #E2EBFA;\n",
              "      box-shadow: 0px 1px 2px rgba(60, 64, 67, 0.3), 0px 1px 3px 1px rgba(60, 64, 67, 0.15);\n",
              "      fill: #174EA6;\n",
              "    }\n",
              "\n",
              "    [theme=dark] .colab-df-convert {\n",
              "      background-color: #3B4455;\n",
              "      fill: #D2E3FC;\n",
              "    }\n",
              "\n",
              "    [theme=dark] .colab-df-convert:hover {\n",
              "      background-color: #434B5C;\n",
              "      box-shadow: 0px 1px 3px 1px rgba(0, 0, 0, 0.15);\n",
              "      filter: drop-shadow(0px 1px 2px rgba(0, 0, 0, 0.3));\n",
              "      fill: #FFFFFF;\n",
              "    }\n",
              "  </style>\n",
              "\n",
              "      <script>\n",
              "        const buttonEl =\n",
              "          document.querySelector('#df-46bd5718-ba07-424c-93ca-c436f33b660e button.colab-df-convert');\n",
              "        buttonEl.style.display =\n",
              "          google.colab.kernel.accessAllowed ? 'block' : 'none';\n",
              "\n",
              "        async function convertToInteractive(key) {\n",
              "          const element = document.querySelector('#df-46bd5718-ba07-424c-93ca-c436f33b660e');\n",
              "          const dataTable =\n",
              "            await google.colab.kernel.invokeFunction('convertToInteractive',\n",
              "                                                     [key], {});\n",
              "          if (!dataTable) return;\n",
              "\n",
              "          const docLinkHtml = 'Like what you see? Visit the ' +\n",
              "            '<a target=\"_blank\" href=https://colab.research.google.com/notebooks/data_table.ipynb>data table notebook</a>'\n",
              "            + ' to learn more about interactive tables.';\n",
              "          element.innerHTML = '';\n",
              "          dataTable['output_type'] = 'display_data';\n",
              "          await google.colab.output.renderOutput(dataTable, element);\n",
              "          const docLink = document.createElement('div');\n",
              "          docLink.innerHTML = docLinkHtml;\n",
              "          element.appendChild(docLink);\n",
              "        }\n",
              "      </script>\n",
              "    </div>\n",
              "  </div>\n",
              "  "
            ],
            "text/plain": [
              "   id  is_duplicate  Q1_Len  Q2_Len  Q1_Words  Q2_Words  common_Word  \\\n",
              "0   0             0      66      57        14        12           10   \n",
              "1   1             0      51      88         8        13            4   \n",
              "2   2             0      73      59        14        10            4   \n",
              "3   3             0      50      65        11         9            0   \n",
              "4   4             0      76      39        13         7            2   \n",
              "\n",
              "   word_Total  Shared_Word  Simple_Ratio  Last_Word  First_Word  Length_diff  \\\n",
              "0          23     0.434783            93          0           1            2   \n",
              "1          20     0.200000            67          0           1            5   \n",
              "2          24     0.166667            41          0           1            4   \n",
              "3          19     0.000000            31          0           0            2   \n",
              "4          20     0.100000            34          0           1            6   \n",
              "\n",
              "   Partial_Ratio  Token_Sort_Ratio  Token_Set_Ratio  StopWord_Ratio  \\\n",
              "0            100                93              100       11.416667   \n",
              "1             85                65               91       12.125000   \n",
              "2             42                73               85       10.071429   \n",
              "3             42                26               31        9.000000   \n",
              "4             51                51               64        7.076923   \n",
              "\n",
              "   Token_Ratio  Longest_Substr_ratio  \n",
              "0    11.416667               0.96552  \n",
              "1    12.375000               0.44231  \n",
              "2    10.142857               0.15000  \n",
              "3     9.000000               0.03922  \n",
              "4     7.076923               0.15000  "
            ]
          },
          "execution_count": 59,
          "metadata": {},
          "output_type": "execute_result"
        }
      ],
      "source": [
        "df1=df1.drop(['Unnamed: 0','qid1', 'qid2','cleanQ1', 'cleanQ2'],axis=1)\n",
        "df1.head()"
      ]
    },
    {
      "cell_type": "code",
      "execution_count": null,
      "metadata": {
        "colab": {
          "base_uri": "https://localhost:8080/"
        },
        "id": "L3Y-fZnjR2Ll",
        "outputId": "47294083-bc1e-4804-b13f-68d616845771"
      },
      "outputs": [
        {
          "data": {
            "text/plain": [
              "Index(['cleanQ1', 'cleanQ2', 'is_duplicate', 'q1_feats_m', 'q2_feats_m'], dtype='object')"
            ]
          },
          "execution_count": 60,
          "metadata": {},
          "output_type": "execute_result"
        }
      ],
      "source": [
        "df.columns"
      ]
    },
    {
      "cell_type": "code",
      "execution_count": null,
      "metadata": {
        "id": "nWUrdvZFR3-_"
      },
      "outputs": [],
      "source": [
        "df3 = df.drop(['cleanQ1', 'cleanQ2', 'is_duplicate'],axis=1)\n",
        "df3_q1 = pd.DataFrame(df3.q1_feats_m.values.tolist(), index= df3.index)\n",
        "df3_q2 = pd.DataFrame(df3.q2_feats_m.values.tolist(), index= df3.index)"
      ]
    },
    {
      "cell_type": "code",
      "execution_count": null,
      "metadata": {
        "id": "pUR-fFFkR6LJ"
      },
      "outputs": [],
      "source": [
        "if not os.path.isfile('final_features.csv'):\n",
        "    df3_q1['id']=df1['id']\n",
        "    df3_q2['id']=df1['id']\n",
        "#df1  = df1.merge(df2, on='id',how='left')\n",
        "    df2  = df3_q1.merge(df3_q2, on='id',how='left')\n",
        "    result  = df1.merge(df2, on='id',how='left')\n",
        "    result.to_csv('final_features.csv')"
      ]
    },
    {
      "cell_type": "markdown",
      "metadata": {
        "id": "Tnaj-EoeR-YX"
      },
      "source": [
        "Machine Learning Models"
      ]
    },
    {
      "cell_type": "code",
      "execution_count": null,
      "metadata": {
        "colab": {
          "base_uri": "https://localhost:8080/"
        },
        "id": "OD6m1XkgR8I3",
        "outputId": "48b77a66-5cce-4241-949c-f84acc42917b"
      },
      "outputs": [
        {
          "name": "stdout",
          "output_type": "stream",
          "text": [
            "Looking in indexes: https://pypi.org/simple, https://us-python.pkg.dev/colab-wheels/public/simple/\n",
            "Requirement already satisfied: mlxtend in /usr/local/lib/python3.8/dist-packages (0.14.0)\n",
            "Requirement already satisfied: scikit-learn>=0.18 in /usr/local/lib/python3.8/dist-packages (from mlxtend) (1.0.2)\n",
            "Requirement already satisfied: scipy>=0.17 in /usr/local/lib/python3.8/dist-packages (from mlxtend) (1.7.3)\n",
            "Requirement already satisfied: pandas>=0.17.1 in /usr/local/lib/python3.8/dist-packages (from mlxtend) (1.3.5)\n",
            "Requirement already satisfied: matplotlib>=1.5.1 in /usr/local/lib/python3.8/dist-packages (from mlxtend) (3.2.2)\n",
            "Requirement already satisfied: numpy>=1.10.4 in /usr/local/lib/python3.8/dist-packages (from mlxtend) (1.21.6)\n",
            "Requirement already satisfied: setuptools in /usr/local/lib/python3.8/dist-packages (from mlxtend) (57.4.0)\n",
            "Requirement already satisfied: python-dateutil>=2.1 in /usr/local/lib/python3.8/dist-packages (from matplotlib>=1.5.1->mlxtend) (2.8.2)\n",
            "Requirement already satisfied: kiwisolver>=1.0.1 in /usr/local/lib/python3.8/dist-packages (from matplotlib>=1.5.1->mlxtend) (1.4.4)\n",
            "Requirement already satisfied: cycler>=0.10 in /usr/local/lib/python3.8/dist-packages (from matplotlib>=1.5.1->mlxtend) (0.11.0)\n",
            "Requirement already satisfied: pyparsing!=2.0.4,!=2.1.2,!=2.1.6,>=2.0.1 in /usr/local/lib/python3.8/dist-packages (from matplotlib>=1.5.1->mlxtend) (3.0.9)\n",
            "Requirement already satisfied: pytz>=2017.3 in /usr/local/lib/python3.8/dist-packages (from pandas>=0.17.1->mlxtend) (2022.7)\n",
            "Requirement already satisfied: joblib>=0.11 in /usr/local/lib/python3.8/dist-packages (from scikit-learn>=0.18->mlxtend) (1.2.0)\n",
            "Requirement already satisfied: threadpoolctl>=2.0.0 in /usr/local/lib/python3.8/dist-packages (from scikit-learn>=0.18->mlxtend) (3.1.0)\n",
            "Requirement already satisfied: six>=1.5 in /usr/local/lib/python3.8/dist-packages (from python-dateutil>=2.1->matplotlib>=1.5.1->mlxtend) (1.15.0)\n"
          ]
        }
      ],
      "source": [
        "!pip install mlxtend\n",
        "import seaborn as sns\n",
        "from sklearn.neighbors import KNeighborsClassifier\n",
        "from sklearn.metrics import confusion_matrix\n",
        "from sklearn.metrics import accuracy_score, log_loss\n",
        "from sklearn.feature_extraction.text import TfidfVectorizer\n",
        "from collections import Counter\n",
        "from scipy.sparse import hstack\n",
        "from sklearn.multiclass import OneVsRestClassifier\n",
        "from sklearn.svm import SVC\n",
        "from sklearn.model_selection import StratifiedKFold\n",
        "from collections import Counter, defaultdict\n",
        "from sklearn.calibration import CalibratedClassifierCV\n",
        "from sklearn.naive_bayes import MultinomialNB\n",
        "from sklearn.naive_bayes import GaussianNB\n",
        "from sklearn.model_selection import train_test_split\n",
        "from sklearn.model_selection import GridSearchCV\n",
        "import math\n",
        "from sklearn.metrics import normalized_mutual_info_score\n",
        "from sklearn.ensemble import RandomForestClassifier\n",
        "\n",
        "from sklearn.preprocessing import StandardScaler\n",
        "\n",
        "\n",
        "from sklearn.model_selection import cross_val_score\n",
        "from sklearn.linear_model import SGDClassifier\n",
        "#from mlxtend.ensemble import StackingClassifier\n",
        "\n",
        "\n",
        "from sklearn import model_selection\n",
        "from sklearn.linear_model import LogisticRegression\n",
        "from sklearn.metrics import precision_recall_curve, auc, roc_curve"
      ]
    },
    {
      "cell_type": "code",
      "execution_count": null,
      "metadata": {
        "colab": {
          "base_uri": "https://localhost:8080/",
          "height": 317
        },
        "id": "HhaC66N3f2eV",
        "outputId": "5a1fc6c6-b484-4e29-cd67-382cc4b20bdf"
      },
      "outputs": [
        {
          "data": {
            "text/html": [
              "\n",
              "  <div id=\"df-81dd4cb5-d763-447d-b39b-7c209b0a6730\">\n",
              "    <div class=\"colab-df-container\">\n",
              "      <div>\n",
              "<style scoped>\n",
              "    .dataframe tbody tr th:only-of-type {\n",
              "        vertical-align: middle;\n",
              "    }\n",
              "\n",
              "    .dataframe tbody tr th {\n",
              "        vertical-align: top;\n",
              "    }\n",
              "\n",
              "    .dataframe thead th {\n",
              "        text-align: right;\n",
              "    }\n",
              "</style>\n",
              "<table border=\"1\" class=\"dataframe\">\n",
              "  <thead>\n",
              "    <tr style=\"text-align: right;\">\n",
              "      <th></th>\n",
              "      <th>Unnamed: 0</th>\n",
              "      <th>id</th>\n",
              "      <th>is_duplicate</th>\n",
              "      <th>Q1_Len</th>\n",
              "      <th>Q2_Len</th>\n",
              "      <th>Q1_Words</th>\n",
              "      <th>Q2_Words</th>\n",
              "      <th>common_Word</th>\n",
              "      <th>word_Total</th>\n",
              "      <th>Shared_Word</th>\n",
              "      <th>...</th>\n",
              "      <th>86_y</th>\n",
              "      <th>87_y</th>\n",
              "      <th>88_y</th>\n",
              "      <th>89_y</th>\n",
              "      <th>90_y</th>\n",
              "      <th>91_y</th>\n",
              "      <th>92_y</th>\n",
              "      <th>93_y</th>\n",
              "      <th>94_y</th>\n",
              "      <th>95_y</th>\n",
              "    </tr>\n",
              "  </thead>\n",
              "  <tbody>\n",
              "    <tr>\n",
              "      <th>0</th>\n",
              "      <td>0</td>\n",
              "      <td>0</td>\n",
              "      <td>0</td>\n",
              "      <td>66</td>\n",
              "      <td>57</td>\n",
              "      <td>14</td>\n",
              "      <td>12</td>\n",
              "      <td>10</td>\n",
              "      <td>23</td>\n",
              "      <td>0.434783</td>\n",
              "      <td>...</td>\n",
              "      <td>-31.102127</td>\n",
              "      <td>0.505053</td>\n",
              "      <td>-6.579380</td>\n",
              "      <td>13.620158</td>\n",
              "      <td>-21.274156</td>\n",
              "      <td>-26.323503</td>\n",
              "      <td>11.100339</td>\n",
              "      <td>51.306917</td>\n",
              "      <td>25.711143</td>\n",
              "      <td>21.282153</td>\n",
              "    </tr>\n",
              "    <tr>\n",
              "      <th>1</th>\n",
              "      <td>1</td>\n",
              "      <td>1</td>\n",
              "      <td>0</td>\n",
              "      <td>51</td>\n",
              "      <td>88</td>\n",
              "      <td>8</td>\n",
              "      <td>13</td>\n",
              "      <td>4</td>\n",
              "      <td>20</td>\n",
              "      <td>0.200000</td>\n",
              "      <td>...</td>\n",
              "      <td>-32.732204</td>\n",
              "      <td>-46.000155</td>\n",
              "      <td>-24.624922</td>\n",
              "      <td>43.772465</td>\n",
              "      <td>-18.766885</td>\n",
              "      <td>-35.293539</td>\n",
              "      <td>5.515999</td>\n",
              "      <td>70.623898</td>\n",
              "      <td>1.168298</td>\n",
              "      <td>38.812205</td>\n",
              "    </tr>\n",
              "    <tr>\n",
              "      <th>2</th>\n",
              "      <td>2</td>\n",
              "      <td>2</td>\n",
              "      <td>0</td>\n",
              "      <td>73</td>\n",
              "      <td>59</td>\n",
              "      <td>14</td>\n",
              "      <td>10</td>\n",
              "      <td>4</td>\n",
              "      <td>24</td>\n",
              "      <td>0.166667</td>\n",
              "      <td>...</td>\n",
              "      <td>-13.857879</td>\n",
              "      <td>-15.160576</td>\n",
              "      <td>-8.154185</td>\n",
              "      <td>20.343424</td>\n",
              "      <td>24.222691</td>\n",
              "      <td>-42.427997</td>\n",
              "      <td>-2.470406</td>\n",
              "      <td>23.679811</td>\n",
              "      <td>19.482093</td>\n",
              "      <td>10.804921</td>\n",
              "    </tr>\n",
              "    <tr>\n",
              "      <th>3</th>\n",
              "      <td>3</td>\n",
              "      <td>3</td>\n",
              "      <td>0</td>\n",
              "      <td>50</td>\n",
              "      <td>65</td>\n",
              "      <td>11</td>\n",
              "      <td>9</td>\n",
              "      <td>0</td>\n",
              "      <td>19</td>\n",
              "      <td>0.000000</td>\n",
              "      <td>...</td>\n",
              "      <td>20.284351</td>\n",
              "      <td>6.163535</td>\n",
              "      <td>5.949984</td>\n",
              "      <td>49.610703</td>\n",
              "      <td>7.629435</td>\n",
              "      <td>-34.266763</td>\n",
              "      <td>-11.635811</td>\n",
              "      <td>46.955974</td>\n",
              "      <td>-14.216256</td>\n",
              "      <td>17.761809</td>\n",
              "    </tr>\n",
              "    <tr>\n",
              "      <th>4</th>\n",
              "      <td>4</td>\n",
              "      <td>4</td>\n",
              "      <td>0</td>\n",
              "      <td>76</td>\n",
              "      <td>39</td>\n",
              "      <td>13</td>\n",
              "      <td>7</td>\n",
              "      <td>2</td>\n",
              "      <td>20</td>\n",
              "      <td>0.100000</td>\n",
              "      <td>...</td>\n",
              "      <td>-6.970851</td>\n",
              "      <td>4.204248</td>\n",
              "      <td>-33.061137</td>\n",
              "      <td>9.762033</td>\n",
              "      <td>3.128604</td>\n",
              "      <td>-15.732558</td>\n",
              "      <td>14.741596</td>\n",
              "      <td>17.810421</td>\n",
              "      <td>15.252085</td>\n",
              "      <td>14.802671</td>\n",
              "    </tr>\n",
              "  </tbody>\n",
              "</table>\n",
              "<p>5 rows × 212 columns</p>\n",
              "</div>\n",
              "      <button class=\"colab-df-convert\" onclick=\"convertToInteractive('df-81dd4cb5-d763-447d-b39b-7c209b0a6730')\"\n",
              "              title=\"Convert this dataframe to an interactive table.\"\n",
              "              style=\"display:none;\">\n",
              "        \n",
              "  <svg xmlns=\"http://www.w3.org/2000/svg\" height=\"24px\"viewBox=\"0 0 24 24\"\n",
              "       width=\"24px\">\n",
              "    <path d=\"M0 0h24v24H0V0z\" fill=\"none\"/>\n",
              "    <path d=\"M18.56 5.44l.94 2.06.94-2.06 2.06-.94-2.06-.94-.94-2.06-.94 2.06-2.06.94zm-11 1L8.5 8.5l.94-2.06 2.06-.94-2.06-.94L8.5 2.5l-.94 2.06-2.06.94zm10 10l.94 2.06.94-2.06 2.06-.94-2.06-.94-.94-2.06-.94 2.06-2.06.94z\"/><path d=\"M17.41 7.96l-1.37-1.37c-.4-.4-.92-.59-1.43-.59-.52 0-1.04.2-1.43.59L10.3 9.45l-7.72 7.72c-.78.78-.78 2.05 0 2.83L4 21.41c.39.39.9.59 1.41.59.51 0 1.02-.2 1.41-.59l7.78-7.78 2.81-2.81c.8-.78.8-2.07 0-2.86zM5.41 20L4 18.59l7.72-7.72 1.47 1.35L5.41 20z\"/>\n",
              "  </svg>\n",
              "      </button>\n",
              "      \n",
              "  <style>\n",
              "    .colab-df-container {\n",
              "      display:flex;\n",
              "      flex-wrap:wrap;\n",
              "      gap: 12px;\n",
              "    }\n",
              "\n",
              "    .colab-df-convert {\n",
              "      background-color: #E8F0FE;\n",
              "      border: none;\n",
              "      border-radius: 50%;\n",
              "      cursor: pointer;\n",
              "      display: none;\n",
              "      fill: #1967D2;\n",
              "      height: 32px;\n",
              "      padding: 0 0 0 0;\n",
              "      width: 32px;\n",
              "    }\n",
              "\n",
              "    .colab-df-convert:hover {\n",
              "      background-color: #E2EBFA;\n",
              "      box-shadow: 0px 1px 2px rgba(60, 64, 67, 0.3), 0px 1px 3px 1px rgba(60, 64, 67, 0.15);\n",
              "      fill: #174EA6;\n",
              "    }\n",
              "\n",
              "    [theme=dark] .colab-df-convert {\n",
              "      background-color: #3B4455;\n",
              "      fill: #D2E3FC;\n",
              "    }\n",
              "\n",
              "    [theme=dark] .colab-df-convert:hover {\n",
              "      background-color: #434B5C;\n",
              "      box-shadow: 0px 1px 3px 1px rgba(0, 0, 0, 0.15);\n",
              "      filter: drop-shadow(0px 1px 2px rgba(0, 0, 0, 0.3));\n",
              "      fill: #FFFFFF;\n",
              "    }\n",
              "  </style>\n",
              "\n",
              "      <script>\n",
              "        const buttonEl =\n",
              "          document.querySelector('#df-81dd4cb5-d763-447d-b39b-7c209b0a6730 button.colab-df-convert');\n",
              "        buttonEl.style.display =\n",
              "          google.colab.kernel.accessAllowed ? 'block' : 'none';\n",
              "\n",
              "        async function convertToInteractive(key) {\n",
              "          const element = document.querySelector('#df-81dd4cb5-d763-447d-b39b-7c209b0a6730');\n",
              "          const dataTable =\n",
              "            await google.colab.kernel.invokeFunction('convertToInteractive',\n",
              "                                                     [key], {});\n",
              "          if (!dataTable) return;\n",
              "\n",
              "          const docLinkHtml = 'Like what you see? Visit the ' +\n",
              "            '<a target=\"_blank\" href=https://colab.research.google.com/notebooks/data_table.ipynb>data table notebook</a>'\n",
              "            + ' to learn more about interactive tables.';\n",
              "          element.innerHTML = '';\n",
              "          dataTable['output_type'] = 'display_data';\n",
              "          await google.colab.output.renderOutput(dataTable, element);\n",
              "          const docLink = document.createElement('div');\n",
              "          docLink.innerHTML = docLinkHtml;\n",
              "          element.appendChild(docLink);\n",
              "        }\n",
              "      </script>\n",
              "    </div>\n",
              "  </div>\n",
              "  "
            ],
            "text/plain": [
              "   Unnamed: 0  id  is_duplicate  Q1_Len  Q2_Len  Q1_Words  Q2_Words  \\\n",
              "0           0   0             0      66      57        14        12   \n",
              "1           1   1             0      51      88         8        13   \n",
              "2           2   2             0      73      59        14        10   \n",
              "3           3   3             0      50      65        11         9   \n",
              "4           4   4             0      76      39        13         7   \n",
              "\n",
              "   common_Word  word_Total  Shared_Word  ...       86_y       87_y       88_y  \\\n",
              "0           10          23     0.434783  ... -31.102127   0.505053  -6.579380   \n",
              "1            4          20     0.200000  ... -32.732204 -46.000155 -24.624922   \n",
              "2            4          24     0.166667  ... -13.857879 -15.160576  -8.154185   \n",
              "3            0          19     0.000000  ...  20.284351   6.163535   5.949984   \n",
              "4            2          20     0.100000  ...  -6.970851   4.204248 -33.061137   \n",
              "\n",
              "        89_y       90_y       91_y       92_y       93_y       94_y       95_y  \n",
              "0  13.620158 -21.274156 -26.323503  11.100339  51.306917  25.711143  21.282153  \n",
              "1  43.772465 -18.766885 -35.293539   5.515999  70.623898   1.168298  38.812205  \n",
              "2  20.343424  24.222691 -42.427997  -2.470406  23.679811  19.482093  10.804921  \n",
              "3  49.610703   7.629435 -34.266763 -11.635811  46.955974 -14.216256  17.761809  \n",
              "4   9.762033   3.128604 -15.732558  14.741596  17.810421  15.252085  14.802671  \n",
              "\n",
              "[5 rows x 212 columns]"
            ]
          },
          "execution_count": 9,
          "metadata": {},
          "output_type": "execute_result"
        }
      ],
      "source": [
        "\n",
        "import numpy as np # linear algebra\n",
        "import pandas as pd\n",
        "data=pd.read_csv('/content/drive/MyDrive/final_features.csv')\n",
        "data.head()"
      ]
    },
    {
      "cell_type": "code",
      "execution_count": null,
      "metadata": {
        "id": "jY-QFfDaf4t7"
      },
      "outputs": [],
      "source": [
        "y_true=data['is_duplicate']\n",
        "data.drop(['Unnamed: 0', 'id','is_duplicate'], axis=1, inplace=True)"
      ]
    },
    {
      "cell_type": "code",
      "execution_count": null,
      "metadata": {
        "id": "G-AwugTlf7K6"
      },
      "outputs": [],
      "source": [
        "scaler = StandardScaler()\n",
        "# transform data\n",
        "scaled = scaler.fit_transform(data)"
      ]
    },
    {
      "cell_type": "markdown",
      "source": [],
      "metadata": {
        "id": "kd283lNrHObc"
      }
    },
    {
      "cell_type": "code",
      "execution_count": null,
      "metadata": {
        "id": "14SBu7JTf9O8"
      },
      "outputs": [],
      "source": [
        "X_train,X_test, y_train, y_test = train_test_split(scaled, y_true, stratify=y_true, test_size=0.3)"
      ]
    },
    {
      "cell_type": "code",
      "execution_count": null,
      "metadata": {
        "colab": {
          "base_uri": "https://localhost:8080/"
        },
        "id": "C7dGps7Hf_fb",
        "outputId": "63b66260-6f32-49ae-af14-b3af3188a668"
      },
      "outputs": [
        {
          "name": "stdout",
          "output_type": "stream",
          "text": [
            "Number of data points in train data : (283000, 209)\n",
            "Number of data points in test data : (121287, 209)\n"
          ]
        }
      ],
      "source": [
        "print(\"Number of data points in train data :\",X_train.shape)\n",
        "print(\"Number of data points in test data :\",X_test.shape)"
      ]
    },
    {
      "cell_type": "code",
      "execution_count": null,
      "metadata": {
        "colab": {
          "base_uri": "https://localhost:8080/"
        },
        "id": "3qT1H00CgBwa",
        "outputId": "15b878d5-449c-43ef-b9e2-6111ca2f2628"
      },
      "outputs": [
        {
          "name": "stdout",
          "output_type": "stream",
          "text": [
            "---------- Distribution of output variable in train data ----------\n",
            "Class 0:  0.6307985865724381 Class 1:  0.36920141342756185\n",
            "---------- Distribution of output variable in train data ----------\n",
            "Class 0:  0.3691986775169639 Class 1:  0.3691986775169639\n"
          ]
        }
      ],
      "source": [
        "print(\"-\"*10, \"Distribution of output variable in train data\", \"-\"*10)\n",
        "train_distr = Counter(y_train)\n",
        "train_len = len(y_train)\n",
        "print(\"Class 0: \",int(train_distr[0])/train_len,\"Class 1: \", int(train_distr[1])/train_len)\n",
        "print(\"-\"*10, \"Distribution of output variable in train data\", \"-\"*10)\n",
        "test_distr = Counter(y_test)\n",
        "test_len = len(y_test)\n",
        "print(\"Class 0: \",int(test_distr[1])/test_len, \"Class 1: \",int(test_distr[1])/test_len)"
      ]
    },
    {
      "cell_type": "code",
      "source": [
        "from imblearn.over_sampling import SMOTE\n",
        "counter = Counter(y_train)\n",
        "print('Before',counter)\n",
        "\n",
        "sm = SMOTE()\n",
        "\n",
        "# transform the dataset\n",
        "X_train, y_train = sm.fit_resample(X_train, y_train)\n",
        "\n",
        "counter = Counter(y_train)\n",
        "print('After',counter)"
      ],
      "metadata": {
        "colab": {
          "base_uri": "https://localhost:8080/"
        },
        "id": "hD3WqbdTB26v",
        "outputId": "44a82c75-65a2-4421-baa9-0ba9f82c5a00"
      },
      "execution_count": null,
      "outputs": [
        {
          "output_type": "stream",
          "name": "stdout",
          "text": [
            "Before Counter({0: 204019, 1: 119410})\n",
            "After Counter({1: 204019, 0: 204019})\n"
          ]
        }
      ]
    },
    {
      "cell_type": "code",
      "source": [
        "import pandas as pd\n",
        "import numpy as np\n",
        "from sklearn.model_selection import train_test_split\n",
        "from sklearn.linear_model import LogisticRegression\n",
        "from sklearn.metrics import accuracy_score, precision_score, recall_score, f1_score, confusion_matrix\n",
        "from imblearn.over_sampling import SMOTE\n",
        "import warnings\n",
        "warnings.filterwarnings('ignore')\n",
        "\n",
        "# Train the logistic regression model\n",
        "lr = LogisticRegression(random_state=42)\n",
        "lr.fit(X_train, y_train)\n",
        "\n",
        "# Make predictions on the test set\n",
        "y_pred = lr.predict(X_test)\n",
        "\n",
        "# Evaluate the model\n",
        "accuracy = accuracy_score(y_test, y_pred)\n",
        "precision = precision_score(y_test, y_pred)\n",
        "recall = recall_score(y_test, y_pred)\n",
        "f1 = f1_score(y_test, y_pred)\n",
        "cm = confusion_matrix(y_test, y_pred)\n",
        "\n",
        "# Print the results\n",
        "print(\"Accuracy: {:.2f}%\".format(accuracy*100))\n",
        "print(\"Precision: {:.2f}%\".format(precision*100))\n",
        "print(\"Recall: {:.2f}%\".format(recall*100))\n",
        "print(\"F1 Score: {:.2f}%\".format(f1*100))\n",
        "\n",
        "# plot confusion matrix with heatmap\n",
        "sns.heatmap(cm, annot=True, fmt='d')\n",
        "plt.title('Confusion Matrix')\n",
        "plt.xlabel('Predicted')\n",
        "plt.ylabel('Actual')\n",
        "plt.show()\n",
        "\n"
      ],
      "metadata": {
        "colab": {
          "base_uri": "https://localhost:8080/",
          "height": 546
        },
        "id": "eZ3i442ilVvv",
        "outputId": "01976a5f-36c2-4f74-e94e-509c27a83956"
      },
      "execution_count": null,
      "outputs": [
        {
          "output_type": "stream",
          "name": "stdout",
          "text": [
            "Accuracy: 72.23%\n",
            "Precision: 59.67%\n",
            "Recall: 76.48%\n",
            "F1 Score: 67.03%\n"
          ]
        },
        {
          "output_type": "display_data",
          "data": {
            "text/plain": [
              "<Figure size 640x480 with 2 Axes>"
            ],
            "image/png": "[encoded data removed]"
          },
          "metadata": {}
        }
      ]
    },
    {
      "cell_type": "code",
      "execution_count": null,
      "metadata": {
        "colab": {
          "base_uri": "https://localhost:8080/",
          "height": 541
        },
        "id": "mDvBK1oM5NPv",
        "outputId": "4e362cfa-72c8-41d6-a750-bad3523ccbcd"
      },
      "outputs": [
        {
          "output_type": "stream",
          "name": "stdout",
          "text": [
            "Accuracy: 72.64%\n",
            "Precision: 62.77%\n",
            "Recall: 63.67%\n",
            "F1 Score: 63.21%\n"
          ]
        },
        {
          "output_type": "display_data",
          "data": {
            "text/plain": [
              "<Figure size 640x480 with 2 Axes>"
            ],
            "image/png": "[encoded data removed]"
          },
          "metadata": {}
        }
      ],
      "source": [
        "import pandas as pd\n",
        "import numpy as np\n",
        "from sklearn.model_selection import train_test_split\n",
        "from sklearn.tree import DecisionTreeClassifier\n",
        "from sklearn.metrics import accuracy_score, precision_score, recall_score, f1_score, confusion_matrix\n",
        "from imblearn.over_sampling import SMOTE\n",
        "import seaborn as sns\n",
        "import matplotlib.pyplot as plt\n",
        "import warnings\n",
        "warnings.filterwarnings('ignore')\n",
        "# Train the model\n",
        "model = DecisionTreeClassifier(random_state=27)\n",
        "model.fit(X_train, y_train)\n",
        "\n",
        "# Make predictions on the test data\n",
        "y_pred = model.predict(X_test)\n",
        "\n",
        "# Evaluate the model\n",
        "accuracy = accuracy_score(y_test, y_pred)\n",
        "precision = precision_score(y_test, y_pred)\n",
        "recall = recall_score(y_test, y_pred)\n",
        "f1 = f1_score(y_test, y_pred)\n",
        "cm = confusion_matrix(y_test, y_pred)\n",
        "\n",
        "# Print the results\n",
        "print(\"Accuracy: {:.2f}%\".format(accuracy*100))\n",
        "print(\"Precision: {:.2f}%\".format(precision*100))\n",
        "print(\"Recall: {:.2f}%\".format(recall*100))\n",
        "print(\"F1 Score: {:.2f}%\".format(f1*100))\n",
        "\n",
        "# plot confusion matrix with heatmap\n",
        "sns.heatmap(cm, annot=True, fmt='d')\n",
        "plt.title('Confusion Matrix')\n",
        "plt.xlabel('Predicted')\n",
        "plt.ylabel('Actual')\n",
        "plt.show()\n"
      ]
    },
    {
      "cell_type": "code",
      "source": [
        "import pandas as pd\n",
        "import numpy as np\n",
        "import matplotlib.pyplot as plt\n",
        "import seaborn as sns\n",
        "from sklearn.neighbors import KNeighborsClassifier\n",
        "from sklearn.model_selection import train_test_split\n",
        "from sklearn.metrics import accuracy_score, precision_score, recall_score, f1_score, confusion_matrix\n",
        "from imblearn.over_sampling import SMOTE\n",
        "import warnings\n",
        "warnings.filterwarnings('ignore')\n",
        "\n",
        "# Apply SMOTE to the training set\n",
        "smote = SMOTE()\n",
        "X_train_resampled, y_train_resampled = smote.fit_resample(X_train, y_train)\n",
        "\n",
        "# Train the model\n",
        "k = 5\n",
        "model = KNeighborsClassifier(n_neighbors=k)\n",
        "model.fit(X_train, y_train)\n",
        "\n",
        "# Make predictions on the testing set\n",
        "y_pred = model.predict(X_test)\n",
        "\n",
        "# Calculate evaluation metrics\n",
        "accuracy = accuracy_score(y_test, y_pred)\n",
        "precision = precision_score(y_test, y_pred)\n",
        "recall = recall_score(y_test, y_pred)\n",
        "f1 = f1_score(y_test, y_pred)\n",
        "confusion_mat = confusion_matrix(y_test, y_pred)\n",
        "\n",
        "# Print the results\n",
        "print(\"Accuracy: {:.2f}%\".format(accuracy*100))\n",
        "print(\"Precision: {:.2f}%\".format(precision*100))\n",
        "print(\"Recall: {:.2f}%\".format(recall*100))\n",
        "print(\"F1 Score: {:.2f}%\".format(f1*100))\n",
        "\n",
        "# plot confusion matrix with heatmap\n",
        "sns.heatmap(confusion_mat, annot=True, fmt='g')\n",
        "plt.title('Confusion Matrix')\n",
        "plt.xlabel('Predicted')\n",
        "plt.ylabel('Actual')\n",
        "plt.show()"
      ],
      "metadata": {
        "colab": {
          "base_uri": "https://localhost:8080/",
          "height": 364
        },
        "id": "t4S9-PfHNckq",
        "outputId": "842f45d9-e407-48d0-d27c-3afd31610b4b"
      },
      "execution_count": null,
      "outputs": [
        {
          "output_type": "stream",
          "name": "stdout",
          "text": [
            "Accuracy: 78.10%\n",
            "Precision: 66.96%\n",
            "Recall: 80.32%\n",
            "F1 Score: 73.04%\n"
          ]
        },
        {
          "output_type": "display_data",
          "data": {
            "text/plain": [
              "<Figure size 432x288 with 2 Axes>"
            ],
            "image/png": "[encoded data removed]"
          },
          "metadata": {
            "needs_background": "light"
          }
        }
      ]
    },
    {
      "cell_type": "code",
      "source": [
        "from sklearn.ensemble import VotingClassifier\n",
        "from sklearn.neighbors import KNeighborsClassifier\n",
        "from sklearn.tree import DecisionTreeClassifier\n",
        "from sklearn.linear_model import LogisticRegression\n",
        "from sklearn.metrics import accuracy_score, precision_score, recall_score, f1_score, confusion_matrix\n",
        "import seaborn as sns\n",
        "import matplotlib.pyplot as plt\n",
        "import warnings\n",
        "warnings.filterwarnings('ignore')\n",
        "\n",
        "# Load the data\n",
        "# X_train, y_train, X_test, y_test = load_data()\n",
        "\n",
        "# Define classifiers\n",
        "knn = KNeighborsClassifier(n_neighbors=5)\n",
        "dt = DecisionTreeClassifier(random_state=42)\n",
        "lr = LogisticRegression(random_state=42)\n",
        "\n",
        "# Create the Voting Classifier\n",
        "voting = VotingClassifier(estimators=[('knn', knn), ('dt', dt), ('lr', lr)], voting='hard')\n",
        "\n",
        "# Train the model\n",
        "voting.fit(X_train, y_train)\n",
        "\n",
        "# Make predictions on test set\n",
        "y_pred = voting.predict(X_test)\n",
        "\n",
        "# Calculate the evaluation metrics\n",
        "accuracy = accuracy_score(y_test, y_pred)\n",
        "precision = precision_score(y_test, y_pred)\n",
        "recall = recall_score(y_test, y_pred)\n",
        "f1 = f1_score(y_test, y_pred)\n",
        "cm = confusion_matrix(y_test, y_pred)\n",
        "\n",
        "# Print the results\n",
        "print(\"Accuracy: {:.2f}%\".format(accuracy*100))\n",
        "print(\"Precision: {:.2f}%\".format(precision*100))\n",
        "print(\"Recall: {:.2f}%\".format(recall*100))\n",
        "print(\"F1 Score: {:.2f}%\".format(f1*100))\n",
        "\n",
        "# plot confusion matrix with heatmap\n",
        "sns.heatmap(cm, annot=True, fmt='d')\n",
        "plt.title('Confusion Matrix')\n",
        "plt.xlabel('Predicted')\n",
        "plt.ylabel('Actual')\n",
        "plt.show()\n",
        "\n"
      ],
      "metadata": {
        "colab": {
          "base_uri": "https://localhost:8080/",
          "height": 364
        },
        "id": "ZDR_Jyd9Z7tg",
        "outputId": "15162153-a02e-4b7c-e10c-aeb6012833d5"
      },
      "execution_count": null,
      "outputs": [
        {
          "output_type": "stream",
          "name": "stdout",
          "text": [
            "Accuracy: 77.95%\n",
            "Precision: 69.34%\n",
            "Recall: 72.20%\n",
            "F1 Score: 70.75%\n"
          ]
        },
        {
          "output_type": "display_data",
          "data": {
            "text/plain": [
              "<Figure size 432x288 with 2 Axes>"
            ],
            "image/png": "[encoded data removed]"
          },
          "metadata": {
            "needs_background": "light"
          }
        }
      ]
    },
    {
      "cell_type": "code",
      "source": [
        "import pandas as pd\n",
        "import numpy as np\n",
        "import xgboost as xgb\n",
        "from sklearn.metrics import accuracy_score, precision_score, recall_score, f1_score, confusion_matrix\n",
        "import seaborn as sns\n",
        "import matplotlib.pyplot as plt\n",
        "import warnings\n",
        "warnings.filterwarnings('ignore')\n",
        "\n",
        "import xgboost as xgb\n",
        "from sklearn.metrics import accuracy_score, confusion_matrix\n",
        "\n",
        "# Assuming X_train, y_train, X_test, y_test are already defined\n",
        "\n",
        "# Train the model\n",
        "xgb_model = xgb.XGBClassifier()\n",
        "xgb_model.fit(X_train, y_train)\n",
        "\n",
        "# Make predictions on test data\n",
        "y_pred = xgb_model.predict(X_test)\n",
        "\n",
        "\n",
        "# Calculate the evaluation metrics\n",
        "accuracy = accuracy_score(y_test, y_pred)\n",
        "precision = precision_score(y_test, y_pred)\n",
        "recall = recall_score(y_test, y_pred)\n",
        "f1 = f1_score(y_test, y_pred)\n",
        "cm = confusion_matrix(y_test, y_pred)\n",
        "\n",
        "# Print the results\n",
        "print(\"Accuracy: {:.2f}%\".format(accuracy*100))\n",
        "print(\"Precision: {:.2f}%\".format(precision*100))\n",
        "print(\"Recall: {:.2f}%\".format(recall*100))\n",
        "print(\"F1 Score: {:.2f}%\".format(f1*100))\n",
        "\n",
        "# plot confusion matrix with heatmap\n",
        "sns.heatmap(cm, annot=True, fmt='d')\n",
        "plt.title('Confusion Matrix')\n",
        "plt.xlabel('Predicted')\n",
        "plt.ylabel('Actual')\n",
        "plt.show()\n"
      ],
      "metadata": {
        "id": "UxSeuWMEX2Z-",
        "colab": {
          "base_uri": "https://localhost:8080/",
          "height": 364
        },
        "outputId": "37948a2d-bbcc-4640-da9a-1a24bbe6ca22"
      },
      "execution_count": null,
      "outputs": [
        {
          "output_type": "stream",
          "name": "stdout",
          "text": [
            "Accuracy: 80.24%\n",
            "Precision: 72.53%\n",
            "Recall: 74.79%\n",
            "F1 Score: 73.65%\n"
          ]
        },
        {
          "output_type": "display_data",
          "data": {
            "text/plain": [
              "<Figure size 432x288 with 2 Axes>"
            ],
            "image/png": "[encoded data removed]"
          },
          "metadata": {
            "needs_background": "light"
          }
        }
      ]
    },
    {
      "cell_type": "code",
      "source": [
        "from sklearn.ensemble import ExtraTreesClassifier\n",
        "from sklearn.metrics import accuracy_score, precision_score, recall_score, f1_score, confusion_matrix\n",
        "import numpy as np\n",
        "from imblearn.over_sampling import SMOTE\n",
        "\n",
        "# Apply SMOTE to the training set\n",
        "smote = SMOTE()\n",
        "X_train_resampled, y_train_resampled = smote.fit_resample(X_train, y_train)\n",
        "\n",
        "# Initialize and fit the Extra Trees classifier\n",
        "etc = ExtraTreesClassifier(n_estimators=400, max_depth=50)\n",
        "etc.fit(X_train, y_train)\n",
        "\n",
        "# Predict the test set\n",
        "y_pred = etc.predict(X_test)\n",
        "\n",
        "# Calculate the evaluation metrics\n",
        "accuracy = accuracy_score(y_test, y_pred)\n",
        "precision = precision_score(y_test, y_pred)\n",
        "recall = recall_score(y_test, y_pred)\n",
        "f1 = f1_score(y_test, y_pred)\n",
        "cm = confusion_matrix(y_test, y_pred)\n",
        "\n",
        "# Print the results\n",
        "print(\"Accuracy: {:.2f}%\".format(accuracy*100))\n",
        "print(\"Precision: {:.2f}%\".format(precision*100))\n",
        "print(\"Recall: {:.2f}%\".format(recall*100))\n",
        "print(\"F1 Score: {:.2f}%\".format(f1*100))\n",
        "\n",
        "# plot confusion matrix with heatmap\n",
        "sns.heatmap(cm, annot=True, fmt='d')\n",
        "plt.title('Confusion Matrix')\n",
        "plt.xlabel('Predicted')\n",
        "plt.ylabel('Actual')\n",
        "plt.show()\n"
      ],
      "metadata": {
        "colab": {
          "base_uri": "https://localhost:8080/",
          "height": 364
        },
        "id": "nfrVUK9QsUQs",
        "outputId": "9308be3a-61ca-4fce-e3d0-3465ef645456"
      },
      "execution_count": null,
      "outputs": [
        {
          "output_type": "stream",
          "name": "stdout",
          "text": [
            "Accuracy: 81.90%\n",
            "Precision: 77.51%\n",
            "Recall: 71.83%\n",
            "F1 Score: 74.56%\n"
          ]
        },
        {
          "output_type": "display_data",
          "data": {
            "text/plain": [
              "<Figure size 432x288 with 2 Axes>"
            ],
            "image/png": "[encoded data removed]"
          },
          "metadata": {
            "needs_background": "light"
          }
        }
      ]
    }
  ],
  "metadata": {
    "accelerator": "TPU",
    "colab": {
      "provenance": [],
      "mount_file_id": "1rNuwo5XDWEVO5E4uAq_JpMHY_utsktDi",
      "authorship_tag": "ABX9TyONQYaMO5x3lps3O4ou9O5V",
      "include_colab_link": true
    },
    "gpuClass": "standard",
    "kernelspec": {
      "display_name": "Python 3",
      "name": "python3"
    },
    "language_info": {
      "name": "python"
    }
  },
  "nbformat": 4,
  "nbformat_minor": 0
}